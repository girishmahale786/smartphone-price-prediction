{
 "cells": [
  {
   "cell_type": "code",
   "execution_count": 1,
   "id": "7382f1cc-5522-43c8-ae93-04127a1eea4e",
   "metadata": {},
   "outputs": [],
   "source": [
    "from bs4 import BeautifulSoup\n",
    "import pandas as pd\n",
    "import requests\n",
    "import time\n",
    "import os"
   ]
  },
  {
   "cell_type": "code",
   "execution_count": 2,
   "id": "6366a0b4-b134-46e8-b999-237972fe8f14",
   "metadata": {},
   "outputs": [],
   "source": [
    "def get_soup(url):\n",
    "    while True:\n",
    "        try:\n",
    "            response = requests.get(url)\n",
    "            response.raise_for_status()\n",
    "            return BeautifulSoup(response.content, 'html.parser')\n",
    "        except requests.exceptions.RequestException as e:\n",
    "            time.sleep(2)\n",
    "            continue"
   ]
  },
  {
   "cell_type": "code",
   "execution_count": 3,
   "id": "e19777a6-d5d6-43b8-932d-36214aa1eb39",
   "metadata": {},
   "outputs": [],
   "source": [
    "def scrape_phone_details(phone_url):\n",
    "    phone_soup = get_soup(phone_url)\n",
    "\n",
    "    name = phone_soup.find('div', class_='aMaAEs').find('span', class_='B_NuCI').text.strip()\n",
    "    disc_price = phone_soup.find('div', class_='_30jeq3').text.strip()\n",
    "    \n",
    "    price = disc_price\n",
    "    if phone_soup.find('div', class_='_3I9_wc'):\n",
    "        price = phone_soup.find('div', class_='_3I9_wc').text.strip()\n",
    "    \n",
    "    brand = None\n",
    "    if phone_soup.find('div', class_='_1MR4o5'):\n",
    "        brand = phone_soup.find('div', class_='_1MR4o5').find_all('a')[3].text.strip()\n",
    "    \n",
    "    rating = None\n",
    "    if phone_soup.find('div', class_='_3LWZlK'):\n",
    "        rating = phone_soup.find('div', class_='_3LWZlK').text.strip()\n",
    "    \n",
    "    phone = {\n",
    "        'Name': name,\n",
    "        'Brand': brand,\n",
    "        'Price': price,\n",
    "        'Discounted Price': disc_price,\n",
    "        'Rating': rating\n",
    "    }\n",
    "\n",
    "    specs_table = phone_soup.find_all('table', class_='_14cfVK')\n",
    "    for spec in specs_table:\n",
    "        for tr in spec.find_all('tr'):\n",
    "            td = tr.contents\n",
    "            if len(td) > 1:\n",
    "                phone[td[0].text.strip()] = td[1].text.strip()\n",
    "\n",
    "    return phone"
   ]
  },
  {
   "cell_type": "code",
   "execution_count": 4,
   "id": "439d8225-ebdb-4fbc-9209-4e16d479d0f0",
   "metadata": {},
   "outputs": [],
   "source": [
    "def scrape_flipkart_data(base_url, brand_urls):\n",
    "    phones = {}\n",
    "    for brand, url in brand_urls.items():\n",
    "        phones[brand] = []\n",
    "        \n",
    "        brand_soup = get_soup(url)\n",
    "        page_count = 0\n",
    "        if brand_soup.find('div', class_='_2MImiq'):\n",
    "            page_count = int(brand_soup.find('div', class_='_2MImiq').span.text.split()[-1])\n",
    "        \n",
    "        for page in range(0, page_count + 1):\n",
    "            page_url = f'{url}&page={page + 1}'\n",
    "            page_soup = get_soup(page_url)\n",
    "            phones_list = page_soup.find_all('div', class_='_13oc-S')\n",
    "            \n",
    "            for phone in phones_list:\n",
    "                phone_url = f\"{base_url}{phone.find('a')['href']}\"\n",
    "                phone_specs = scrape_phone_details(phone_url)\n",
    "                phones[brand].append(phone_specs)\n",
    "    \n",
    "    return phones"
   ]
  },
  {
   "cell_type": "code",
   "execution_count": 5,
   "id": "622d93c4-cd49-41f0-b460-466f2c75b23a",
   "metadata": {},
   "outputs": [],
   "source": [
    "base_url = 'https://www.flipkart.com'\n",
    "search = f'{base_url}/search?sid=tyy%2C4io&otracker=CLP_Filters&p%5B%5D=facets.price_range.from%3D10000&p%5B%5D=facets.price_range.to%3DMax'\n",
    "apple = f'{search}&p%5B%5D=facets.brand%255B%255D%3DAPPLE'\n",
    "samsung = f'{search}&p%5B%5D=facets.brand%255B%255D%3DSAMSUNG'\n",
    "google = f'{search}&p%5B%5D=facets.brand%255B%255D%3DGoogle'\n",
    "nothing = f'{search}&p%5B%5D=facets.brand%255B%255D%3DNothing'\n",
    "asus = f'{search}&p%5B%5D=facets.brand%255B%255D%3DASUS'\n",
    "oneplus = f'{search}&p%5B%5D=facets.brand%255B%255D%3DOnePlus'\n",
    "oppo = f'{search}&p%5B%5D=facets.brand%255B%255D%3DOPPO'\n",
    "vivo = f'{search}&p%5B%5D=facets.brand%255B%255D%3Dvivo'\n",
    "mi = f'{search}&p%5B%5D=facets.brand%255B%255D%3DMi'\n",
    "redmi = f'{search}&p%5B%5D=facets.brand%255B%255D%3DREDMI'\n",
    "realme = f'{search}&p%5B%5D=facets.brand%255B%255D%3Drealme'\n",
    "poco = f'{search}&p%5B%5D=facets.brand%255B%255D%3DPOCO'\n",
    "iqoo = f'{search}&p%5B%5D=facets.brand%255B%255D%3DIQOO'\n",
    "motorola = f'{search}&p%5B%5D=facets.brand%255B%255D%3DMOTOROLA'\n",
    "\n",
    "brand_urls = {\n",
    "    'apple': apple, \n",
    "    'samsung': samsung,\n",
    "    'google': google,\n",
    "    'nothing': nothing,\n",
    "    'asus': asus,\n",
    "    'oneplus': oneplus,\n",
    "    'oppo': oppo,\n",
    "    'vivo': vivo,\n",
    "    'mi': mi,\n",
    "    'redmi': redmi,\n",
    "    'realme': realme,\n",
    "    'poco': poco,\n",
    "    'iqoo': iqoo,\n",
    "    'motorola': motorola,\n",
    "}"
   ]
  },
  {
   "cell_type": "code",
   "execution_count": 6,
   "id": "a83adc77-3835-48df-bdc1-0291614bbd61",
   "metadata": {},
   "outputs": [],
   "source": [
    "phones = scrape_flipkart_data(base_url, brand_urls)\n",
    "for brand in brand_urls.keys():\n",
    "    df = pd.DataFrame(phones[brand])\n",
    "    df.to_csv(f'data/{brand}.csv', index=False)"
   ]
  },
  {
   "cell_type": "code",
   "execution_count": 7,
   "id": "65cc95be-1071-4ba9-8adf-7999dd2c1be5",
   "metadata": {},
   "outputs": [],
   "source": [
    "all_df = []\n",
    "for file in os.listdir('data/'):\n",
    "    df = pd.read_csv(f'data/{file}')\n",
    "    all_df.append(df)"
   ]
  },
  {
   "cell_type": "code",
   "execution_count": 8,
   "id": "d958148d-bbc7-493f-895d-4f00960f6444",
   "metadata": {},
   "outputs": [],
   "source": [
    "phones_df = pd.concat(all_df)\n",
    "phones_df.to_csv('data/phones.csv', index=False)"
   ]
  }
 ],
 "metadata": {
  "kernelspec": {
   "display_name": "Python 3 (ipykernel)",
   "language": "python",
   "name": "python3"
  },
  "language_info": {
   "codemirror_mode": {
    "name": "ipython",
    "version": 3
   },
   "file_extension": ".py",
   "mimetype": "text/x-python",
   "name": "python",
   "nbconvert_exporter": "python",
   "pygments_lexer": "ipython3",
   "version": "3.11.0"
  }
 },
 "nbformat": 4,
 "nbformat_minor": 5
}
