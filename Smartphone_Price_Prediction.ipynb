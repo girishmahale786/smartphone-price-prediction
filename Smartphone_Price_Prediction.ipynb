{
  "cells": [
    {
      "cell_type": "markdown",
      "id": "b8fbd61b",
      "metadata": {
        "id": "b8fbd61b"
      },
      "source": [
        "# Smartphone Price Prediction"
      ]
    },
    {
      "cell_type": "markdown",
      "id": "a99d4c1a",
      "metadata": {
        "id": "a99d4c1a"
      },
      "source": [
        "Vishakha Joshi (22070126132)  \n",
        "Yash Chandak (22070126134)  \n",
        "Girish Mahale (23070126504)"
      ]
    },
    {
      "cell_type": "code",
      "execution_count": null,
      "id": "f0c804e4-5e72-4098-ba71-a31b3b07d91f",
      "metadata": {
        "id": "f0c804e4-5e72-4098-ba71-a31b3b07d91f"
      },
      "outputs": [],
      "source": [
        "import matplotlib.pyplot as plt\n",
        "import seaborn as sns\n",
        "import pandas as pd\n",
        "import numpy as np\n",
        "import pickle\n"
      ]
    },
    {
      "cell_type": "markdown",
      "id": "6f2e60a8",
      "metadata": {
        "id": "6f2e60a8"
      },
      "source": [
        "# Dataset Description"
      ]
    },
    {
      "cell_type": "code",
      "execution_count": null,
      "id": "d378b644",
      "metadata": {
        "colab": {
          "base_uri": "https://localhost:8080/",
          "height": 253
        },
        "id": "d378b644",
        "outputId": "3c22ecb7-70f4-46e4-dd62-18b7515268e6"
      },
      "outputs": [],
      "source": [
        "df = pd.read_csv('prep_smartphones.csv')\n",
        "df.head()\n"
      ]
    },
    {
      "cell_type": "code",
      "execution_count": null,
      "id": "7b715197",
      "metadata": {
        "colab": {
          "base_uri": "https://localhost:8080/"
        },
        "id": "7b715197",
        "outputId": "ee67396c-d8b8-46b1-dd77-4c07600bf114"
      },
      "outputs": [],
      "source": [
        "df.shape\n"
      ]
    },
    {
      "cell_type": "code",
      "execution_count": null,
      "id": "aa624041",
      "metadata": {
        "colab": {
          "base_uri": "https://localhost:8080/",
          "height": 367
        },
        "id": "aa624041",
        "outputId": "a35cd357-2450-4103-eeb6-01d1a5ef6703"
      },
      "outputs": [],
      "source": [
        "df.describe()\n"
      ]
    },
    {
      "cell_type": "code",
      "execution_count": null,
      "id": "cd704f07",
      "metadata": {
        "colab": {
          "base_uri": "https://localhost:8080/"
        },
        "id": "cd704f07",
        "outputId": "20757750-211b-4b6d-b82c-859efeba9594"
      },
      "outputs": [],
      "source": [
        "df.info()\n"
      ]
    },
    {
      "cell_type": "code",
      "execution_count": null,
      "id": "e8dd39c3",
      "metadata": {
        "colab": {
          "base_uri": "https://localhost:8080/"
        },
        "id": "e8dd39c3",
        "outputId": "ec5e1b5d-3c76-499e-8264-376987c7b505"
      },
      "outputs": [],
      "source": [
        "df.isna().sum().sum()\n"
      ]
    },
    {
      "cell_type": "code",
      "execution_count": null,
      "id": "fa46a82a",
      "metadata": {
        "colab": {
          "base_uri": "https://localhost:8080/"
        },
        "id": "fa46a82a",
        "outputId": "f5f01efd-5cf4-482e-a54f-aff7f88f7143"
      },
      "outputs": [],
      "source": [
        "df.isna().sum()\n"
      ]
    },
    {
      "cell_type": "code",
      "execution_count": null,
      "id": "e401ffc8",
      "metadata": {
        "id": "e401ffc8"
      },
      "outputs": [],
      "source": [
        "category_cols = ['Brand', 'Color', 'SIM Type', 'Hybrid Sim Slot', 'Resolution Type', 'Display Type', 'Processor Type', 'Quick Charging', 'Processor Core', 'Audio Jack', 'Network Type']\n",
        "df[category_cols] = df[category_cols].astype('category')\n",
        "categoric = df.select_dtypes(include='category')\n",
        "numeric = df.select_dtypes(include='number')\n"
      ]
    },
    {
      "cell_type": "code",
      "execution_count": null,
      "id": "84794b40",
      "metadata": {
        "colab": {
          "base_uri": "https://localhost:8080/"
        },
        "id": "84794b40",
        "outputId": "a244e582-3e60-419f-f685-e3a17e875658"
      },
      "outputs": [],
      "source": [
        "corr_matrix = numeric.corr()\n",
        "corr_matrix['Price'].sort_values()\n"
      ]
    },
    {
      "cell_type": "code",
      "execution_count": null,
      "id": "b5fc3a5b",
      "metadata": {
        "colab": {
          "base_uri": "https://localhost:8080/",
          "height": 1000
        },
        "id": "b5fc3a5b",
        "outputId": "57266f31-e0c3-4f85-b146-89cd1e232610"
      },
      "outputs": [],
      "source": [
        "plt.figure(figsize=(12, 10))\n",
        "sns.set(font_scale=1)\n",
        "sns.set_style('whitegrid')\n",
        "heatmap = sns.heatmap(corr_matrix, annot=True, cmap='coolwarm', square=True, fmt='.2f', linewidths=0.5, linecolor='gray')\n",
        "\n",
        "plt.title('Correlation Matrix Heatmap (Numeric Variables)', fontsize=16)\n",
        "plt.tight_layout()\n",
        "plt.show()\n"
      ]
    },
    {
      "cell_type": "markdown",
      "id": "JGyBnyRGqUyH",
      "metadata": {
        "id": "JGyBnyRGqUyH"
      },
      "source": [
        "  Inference:\n",
        "\n",
        "  Based on the heatmap , as we are working on price prediction we will take the most highly corelated feature like Internal storage"
      ]
    },
    {
      "cell_type": "code",
      "execution_count": null,
      "id": "74519cba",
      "metadata": {
        "colab": {
          "base_uri": "https://localhost:8080/",
          "height": 394
        },
        "id": "74519cba",
        "outputId": "fb0283f2-f9fb-4869-b1d5-4ed53a44dd48"
      },
      "outputs": [],
      "source": [
        "from scipy.stats import pointbiserialr\n",
        "\n",
        "corrs = []\n",
        "for col in categoric:\n",
        "    h_statistic, p_value = pointbiserialr(df[col], df['Price'].to_numpy())\n",
        "    corr = {\n",
        "        'Categorical Variable': col,\n",
        "        'H-statistic': h_statistic,\n",
        "        'p-value': p_value\n",
        "    }\n",
        "    corrs.append(corr)\n",
        "\n",
        "corr_df = pd.DataFrame(corrs, columns=['Categorical Variable', 'H-statistic', 'p-value'])\n",
        "corr_df_sorted = corr_df.sort_values(by='p-value')\n",
        "corr_df_sorted\n"
      ]
    },
    {
      "cell_type": "code",
      "execution_count": null,
      "id": "96ce2794",
      "metadata": {
        "colab": {
          "base_uri": "https://localhost:8080/",
          "height": 626
        },
        "id": "96ce2794",
        "outputId": "aeb29381-1c03-40ec-f4c7-2eb0e0271394"
      },
      "outputs": [],
      "source": [
        "plt.figure(figsize=(10, 6))\n",
        "sns.barplot(x='p-value', y='Categorical Variable', data=corr_df_sorted, palette='coolwarm')\n",
        "plt.xscale('log')\n",
        "plt.xlabel('p-value', fontsize=12)\n",
        "plt.ylabel('Categorical Variable', fontsize=12)\n",
        "plt.title('Correlation of Price with Categorical Variables', fontsize=14)\n",
        "plt.tight_layout()\n",
        "plt.grid(axis='x', linestyle='--', alpha=0.6)\n",
        "plt.xticks(rotation=45)\n",
        "plt.show()\n"
      ]
    },
    {
      "cell_type": "code",
      "execution_count": null,
      "id": "80baa59c",
      "metadata": {
        "colab": {
          "base_uri": "https://localhost:8080/",
          "height": 1000
        },
        "id": "80baa59c",
        "outputId": "982141d4-2d79-448d-e303-9a652c686b03"
      },
      "outputs": [],
      "source": [
        "df.hist(bins=20, color='teal', alpha=0.7, edgecolor='black', grid=False, layout=(4, 4), figsize=(15, 15))\n",
        "plt.suptitle('Histograms of Numeric Variables', fontsize=16)\n",
        "plt.tight_layout()\n",
        "plt.show()\n"
      ]
    },
    {
      "cell_type": "markdown",
      "id": "e0nqCqKZPilH",
      "metadata": {
        "id": "e0nqCqKZPilH"
      },
      "source": [
        "Inferences:\n",
        "\n",
        "From this our distribution is not much normal and it is skewed distribution ."
      ]
    },
    {
      "cell_type": "code",
      "execution_count": null,
      "id": "df4127b8",
      "metadata": {
        "colab": {
          "base_uri": "https://localhost:8080/",
          "height": 1000
        },
        "id": "df4127b8",
        "outputId": "bee1f7b8-5d47-42ec-ca8a-95a137401f3e"
      },
      "outputs": [],
      "source": [
        "nrows, ncols = 4, 4\n",
        "fig, axes = plt.subplots(nrows=nrows, ncols=ncols, figsize=(15, 15))\n",
        "\n",
        "for i in range(nrows):\n",
        "    for j in range(ncols):\n",
        "        ax = axes[i, j]\n",
        "        col = numeric.columns[i * ncols + j]\n",
        "        sns.scatterplot(x=col, y='Price', data=df, ax=ax, alpha=0.7, edgecolor='black')\n",
        "        ax.set_xlabel(col, fontsize=10)\n",
        "        ax.set_ylabel('Price', fontsize=10)\n",
        "        ax.set_title(f'{col} vs Price', fontsize=12)\n",
        "\n",
        "plt.suptitle('Scatter Plot of Numeric Variables', fontsize=16)\n",
        "plt.tight_layout()\n",
        "plt.show()\n"
      ]
    },
    {
      "cell_type": "markdown",
      "id": "Zyz2wVbGpML2",
      "metadata": {
        "id": "Zyz2wVbGpML2"
      },
      "source": [
        "Inferences:\n",
        "\n",
        "Based on this plot with respect to price which all are more diveresed and data is deviated and not homoscadicity."
      ]
    },
    {
      "cell_type": "code",
      "execution_count": null,
      "id": "PWhS_ciCsjUA",
      "metadata": {
        "colab": {
          "base_uri": "https://localhost:8080/",
          "height": 1000
        },
        "id": "PWhS_ciCsjUA",
        "outputId": "c5c8ee79-9451-417a-e13b-a2fced6d8aec"
      },
      "outputs": [],
      "source": [
        "nrows, ncols = 4, 4\n",
        "fig, axes = plt.subplots(nrows=nrows, ncols=ncols, figsize=(15, 15))\n",
        "\n",
        "for i in range(nrows):\n",
        "    for j in range(ncols):\n",
        "        ax = axes[i, j]\n",
        "        col = numeric.columns[i * ncols + j]\n",
        "        sns.boxplot(x=col, y=\"Price\", data=df , ax=ax ,palette='rainbow')\n",
        "        ax.set_xlabel(col, fontsize=10)\n",
        "        ax.set_ylabel('Price', fontsize=10)\n",
        "        ax.set_title(f'{col} vs Price', fontsize=12)\n",
        "\n",
        "        plt.tight_layout()\n"
      ]
    },
    {
      "cell_type": "markdown",
      "id": "VympmLUSL2dV",
      "metadata": {
        "id": "VympmLUSL2dV"
      },
      "source": [
        "Inferences:\n",
        "\n",
        "Based on this box plot , we can say that it is not clear but it shows less data and many outliers."
      ]
    },
    {
      "cell_type": "code",
      "execution_count": null,
      "id": "6TAFNVaBOvXn",
      "metadata": {
        "colab": {
          "base_uri": "https://localhost:8080/",
          "height": 480
        },
        "id": "6TAFNVaBOvXn",
        "outputId": "02766cc4-9ff9-4466-c900-0b5e3a3a503f"
      },
      "outputs": [],
      "source": [
        "sns.boxplot(x=col, y=\"Price\", data=df ,palette='rainbow')\n",
        "plt.tight_layout()\n",
        "plt.show()\n"
      ]
    },
    {
      "cell_type": "code",
      "execution_count": null,
      "id": "qEhiIjiow5GU",
      "metadata": {
        "colab": {
          "base_uri": "https://localhost:8080/",
          "height": 680
        },
        "id": "qEhiIjiow5GU",
        "outputId": "fdb657f9-4ce3-4370-c2d3-81e9799549e0"
      },
      "outputs": [],
      "source": [
        "nrows, ncols = 4, 4\n",
        "fig, axes = plt.subplots(nrows=nrows, ncols=ncols, figsize=(30, 10))\n",
        "\n",
        "for i in range(nrows):\n",
        "    for j in range(ncols):\n",
        "        ax = axes[i, j]\n",
        "        col = numeric.columns[i * ncols + j]\n",
        "        sns.violinplot(x=col, y=\"Price\", data=df,ax=ax,palette='rainbow')\n",
        "        ax.set_xlabel(col, fontsize=10)\n",
        "        ax.set_ylabel('Price', fontsize=10)\n",
        "        ax.set_title(f'{col} vs Price', fontsize=12)\n",
        "        plt.tight_layout()\n"
      ]
    },
    {
      "cell_type": "markdown",
      "id": "gUZKu9FuUC_m",
      "metadata": {
        "id": "gUZKu9FuUC_m"
      },
      "source": [
        "Inference:\n",
        "\n",
        "Based on the violinplot , the much long is the violin it shows range is more and data is less ."
      ]
    },
    {
      "cell_type": "code",
      "execution_count": null,
      "id": "spawtEcMlqC7",
      "metadata": {
        "colab": {
          "base_uri": "https://localhost:8080/",
          "height": 480
        },
        "id": "spawtEcMlqC7",
        "outputId": "ea3a36c8-70d3-4cfc-aae6-eb2afacead28"
      },
      "outputs": [],
      "source": [
        "sns.violinplot(x='Internal Storage', y=\"Price\", data=df,palette='rainbow')\n",
        "plt.tight_layout()\n",
        "plt.show()\n"
      ]
    },
    {
      "cell_type": "code",
      "execution_count": null,
      "id": "4CPa3lm3zJ9W",
      "metadata": {
        "colab": {
          "base_uri": "https://localhost:8080/",
          "height": 619
        },
        "id": "4CPa3lm3zJ9W",
        "outputId": "b95d7a82-48d4-4089-936d-b31cf2c5a182"
      },
      "outputs": [],
      "source": [
        "sns.jointplot(x='Internal Storage',y='Price',data=df,kind='reg')\n"
      ]
    },
    {
      "cell_type": "markdown",
      "id": "mbDzdC6lOWR_",
      "metadata": {
        "id": "mbDzdC6lOWR_"
      },
      "source": [
        "# Model Building"
      ]
    },
    {
      "cell_type": "code",
      "execution_count": null,
      "id": "7a2e4a8a",
      "metadata": {
        "id": "7a2e4a8a"
      },
      "outputs": [],
      "source": [
        "numeric_features = ['Price', 'RAM', 'Internal Storage', 'Battery Capacity']\n",
        "categoric_features = ['Resolution Type', 'Processor Type', 'Processor Core']\n",
        "features = numeric_features + categoric_features\n",
        "df = df[features]\n",
        "numeric = df.select_dtypes(include='number')\n",
        "categoric = df.select_dtypes(include='category')\n"
      ]
    },
    {
      "cell_type": "code",
      "execution_count": null,
      "id": "5cbfa1f4",
      "metadata": {
        "id": "5cbfa1f4"
      },
      "outputs": [],
      "source": [
        "from sklearn.preprocessing import FunctionTransformer\n",
        "\n",
        "transform = FunctionTransformer(func=np.log1p)\n",
        "transformed_df = transform.fit_transform(numeric)\n",
        "for col in categoric.columns:\n",
        "    transformed_df[col] = df[col]\n",
        "\n",
        "transformed_df.head()\n"
      ]
    },
    {
      "cell_type": "code",
      "execution_count": null,
      "id": "c7c7b96a",
      "metadata": {
        "id": "c7c7b96a"
      },
      "outputs": [],
      "source": [
        "with open('log_transform.pkl', 'wb') as f:\n",
        "    pickle.dump(transform, f)\n"
      ]
    },
    {
      "cell_type": "code",
      "execution_count": null,
      "id": "376d56d6",
      "metadata": {
        "id": "376d56d6"
      },
      "outputs": [],
      "source": [
        "transformed_df.hist(bins=20, alpha=0.7, edgecolor='black', grid=False, layout=(4, 4), figsize=(15, 15))\n",
        "plt.suptitle('Histograms of Numeric Variables (Log Transformed)', fontsize=16)\n",
        "plt.tight_layout()\n",
        "plt.show()\n"
      ]
    },
    {
      "cell_type": "code",
      "execution_count": null,
      "id": "f5e0c642",
      "metadata": {
        "id": "f5e0c642"
      },
      "outputs": [],
      "source": [
        "from sklearn.preprocessing import MinMaxScaler\n",
        "\n",
        "scaler = MinMaxScaler()\n",
        "scaled = scaler.fit_transform(transformed_df)\n",
        "scaled_df = pd.DataFrame(scaled, columns=transformed_df.columns)\n",
        "scaled_df.head()\n"
      ]
    },
    {
      "cell_type": "code",
      "execution_count": null,
      "id": "61eaa480",
      "metadata": {
        "id": "61eaa480"
      },
      "outputs": [],
      "source": [
        "with open('scaler.pkl', 'wb') as f:\n",
        "    pickle.dump(scaler, f)\n"
      ]
    },
    {
      "cell_type": "code",
      "execution_count": null,
      "id": "0a201d28",
      "metadata": {
        "id": "0a201d28"
      },
      "outputs": [],
      "source": [
        "from sklearn.model_selection import train_test_split\n",
        "\n",
        "X = scaled_df.drop('Price', axis=1)\n",
        "y = scaled_df['Price']\n",
        "X_train, X_test, y_train, y_test = train_test_split(X, y, test_size=0.2, random_state=42)\n",
        "\n",
        "cols = features.copy()\n",
        "cols.remove('Price')\n",
        "covariates = pd.DataFrame(X_test, columns=cols)\n"
      ]
    },
    {
      "cell_type": "code",
      "execution_count": null,
      "id": "f8b826ee",
      "metadata": {
        "id": "f8b826ee"
      },
      "outputs": [],
      "source": [
        "from sklearn.linear_model import LinearRegression\n",
        "\n",
        "lr_model = LinearRegression()\n",
        "lr_model.fit(X_train, y_train)\n",
        "lr_pred = lr_model.predict(X_test)\n"
      ]
    },
    {
      "cell_type": "code",
      "execution_count": null,
      "id": "3c104bef",
      "metadata": {
        "id": "3c104bef"
      },
      "outputs": [],
      "source": [
        "from sklearn.gaussian_process.kernels import RBF, WhiteKernel, ConstantKernel\n",
        "from sklearn.gaussian_process import GaussianProcessRegressor\n",
        "\n",
        "kernel = ConstantKernel(1.0, (1e-3, 1e3)) * RBF(1.0, (1e-2, 1e2)) + WhiteKernel(1e-1)\n",
        "gpr_model = GaussianProcessRegressor(kernel=kernel, n_restarts_optimizer=10)\n",
        "gpr_model.fit(X_train, y_train)\n",
        "gpr_pred = gpr_model.predict(X_test)\n"
      ]
    },
    {
      "cell_type": "code",
      "execution_count": null,
      "id": "6581b9d0",
      "metadata": {
        "id": "6581b9d0"
      },
      "outputs": [],
      "source": [
        "def theils_u(y_true, y_pred):\n",
        "    n = len(y_true)\n",
        "    U1 = np.sqrt(np.sum((y_true - y_pred) ** 2)) / np.sqrt(np.sum(y_true ** 2))\n",
        "    U2 = np.sqrt(np.sum((y_true - y_pred) ** 2)) / np.sqrt(np.sum(y_pred ** 2))\n",
        "    return U1, U2\n"
      ]
    },
    {
      "cell_type": "code",
      "execution_count": null,
      "id": "b6ab4911",
      "metadata": {
        "id": "b6ab4911"
      },
      "outputs": [],
      "source": [
        "def index_of_agreement(y_true, y_pred):\n",
        "    numerator = np.sum((y_true - y_pred) ** 2)\n",
        "    denominator = np.sum((np.abs(y_pred - np.mean(y_true)) + np.abs(y_true - np.mean(y_true))) ** 2)\n",
        "    return 1 - (numerator / denominator)\n"
      ]
    },
    {
      "cell_type": "code",
      "execution_count": null,
      "id": "19da5f5b",
      "metadata": {
        "id": "19da5f5b"
      },
      "outputs": [],
      "source": [
        "import statsmodels.api as sm\n",
        "from statsmodels.stats.diagnostic import het_breuschpagan\n",
        "\n",
        "def breusch_pagan_test(residuals, covariates):\n",
        "    covariates = sm.add_constant(covariates)\n",
        "    min_rows = min(len(residuals), len(covariates))\n",
        "    residuals = residuals[:min_rows]\n",
        "    covariates = covariates[:min_rows]\n",
        "    lm, lm_p_value, fvalue, f_p_value = het_breuschpagan(residuals, covariates)\n",
        "    return lm, lm_p_value, fvalue, f_p_value\n"
      ]
    },
    {
      "cell_type": "code",
      "execution_count": null,
      "id": "042a2a76",
      "metadata": {
        "id": "042a2a76"
      },
      "outputs": [],
      "source": [
        "from statsmodels.stats.stattools import durbin_watson\n",
        "\n",
        "def durbin_watson_test(residuals):\n",
        "    dw_statistic = durbin_watson(residuals)\n",
        "    return dw_statistic\n"
      ]
    },
    {
      "cell_type": "code",
      "execution_count": null,
      "id": "6d8df31e",
      "metadata": {
        "id": "6d8df31e"
      },
      "outputs": [],
      "source": [
        "def plot_residual_histogram(residuals, model_name):\n",
        "    sns.set_style(\"white\")\n",
        "    plt.hist(residuals, bins=20, edgecolor='k')\n",
        "    plt.xlabel('Residuals')\n",
        "    plt.ylabel('Frequency')\n",
        "    plt.title(f'Histogram of Residuals - {model_name.title()}')\n",
        "    plt.show()\n"
      ]
    },
    {
      "cell_type": "code",
      "execution_count": null,
      "id": "4a53b338",
      "metadata": {
        "id": "4a53b338"
      },
      "outputs": [],
      "source": [
        "def plot_residual_vs_covariates(residuals, covariates, model_name):\n",
        "    num_covariates = len(covariates.columns)\n",
        "    num_rows = int(num_covariates / 2) + (num_covariates % 2)\n",
        "    num_cols = 2\n",
        "\n",
        "    fig, axes = plt.subplots(num_rows, num_cols, figsize=(12, 10))\n",
        "    fig.suptitle(f\"{model_name.title()} - Residuals vs. Covariates\", fontsize=16)\n",
        "    sns.set_style(\"white\")\n",
        "    for i, cov_name in enumerate(covariates.columns):\n",
        "        row = i // num_cols\n",
        "        col = i % num_cols\n",
        "        ax = axes[row, col]\n",
        "        covariate = covariates[cov_name]\n",
        "        ax.scatter(covariate, residuals, alpha=0.5)\n",
        "        ax.set_xlabel(cov_name)\n",
        "        ax.set_ylabel(\"Residuals\")\n",
        "\n",
        "    for i in range(num_covariates, num_rows * num_cols):\n",
        "        fig.delaxes(axes.flatten()[i])\n",
        "\n",
        "    plt.tight_layout()\n",
        "    plt.show()\n"
      ]
    },
    {
      "cell_type": "code",
      "execution_count": null,
      "id": "27d23bc9",
      "metadata": {
        "id": "27d23bc9"
      },
      "outputs": [],
      "source": [
        "from sklearn.metrics import r2_score, mean_absolute_error, mean_squared_error\n",
        "\n",
        "def calculate_metrics(y_true, y_pred, covariates, model_name):\n",
        "    # Calculate Residuals\n",
        "    residuals = y_true - y_pred\n",
        "\n",
        "    # Calculate R-squared\n",
        "    r_squared = r2_score(y_true, y_pred)\n",
        "\n",
        "    # Calculate Mean Absolute Error (MAE)\n",
        "    mae = mean_absolute_error(y_true, y_pred)\n",
        "\n",
        "    # Calculate Mean Squared Error (MSE)\n",
        "    mse = mean_squared_error(y_true, y_pred)\n",
        "\n",
        "    # Calculate Mean Absolute Percentage Error (MAPE)\n",
        "    mape = np.mean(np.abs((y_true - y_pred) / y_true)) * 100\n",
        "\n",
        "    # Calculate Normalized Root Mean Squared Error (nRMSE)\n",
        "    nrmse = np.sqrt(mse) / (max(y_true) - min(y_true))\n",
        "\n",
        "    # Calculate Theil's U1 and U2\n",
        "    u1, u2 = theils_u(y_true, y_pred)\n",
        "\n",
        "    # Calculate Index of Agreement\n",
        "    ioa = index_of_agreement(y_true, y_pred)\n",
        "\n",
        "    # Create a Pandas DataFrame to store the metrics\n",
        "    metrics_df = pd.DataFrame({\n",
        "        'Model': [model_name],\n",
        "        'R-squared': [r_squared],\n",
        "        'MAE': [mae],\n",
        "        'MSE': [mse],\n",
        "        'MAPE': [mape],\n",
        "        \"Theil's U1\": [u1],\n",
        "        \"Theil's U2\": [u2],\n",
        "        'Index of Agreement': [ioa]\n",
        "    })\n",
        "\n",
        "    # Durbin-Watson test (Test for autocorrelation among residuals)\n",
        "    dw_stat = durbin_watson_test(residuals)\n",
        "    metrics_df['Durbin-Watson Statistic'] = [dw_stat]\n",
        "\n",
        "    # Calculate Test for heteroscedasticity (Breusch-Pagan Test) - p-value\n",
        "    lm, lm_p_value, fvalue, f_p_value = breusch_pagan_test(residuals, covariates)\n",
        "\n",
        "    if lm_p_value < 0.05:\n",
        "        metrics_df['Heteroscedasticity'] = [\"Yes\"]\n",
        "    else:\n",
        "        metrics_df['Heteroscedasticity'] = [\"No\"]\n",
        "\n",
        "    metrics_df['Breusch-Pagan LM Statistic'] = [lm]\n",
        "    metrics_df['Breusch-Pagan LM P-Value'] = [lm_p_value]\n",
        "    metrics_df['Breusch-Pagan F-Stat'] = [fvalue]\n",
        "    metrics_df['Breusch-Pagan F P-Value'] = [f_p_value]\n",
        "\n",
        "    return metrics_df\n"
      ]
    },
    {
      "cell_type": "code",
      "execution_count": null,
      "id": "e6c4121b",
      "metadata": {
        "id": "e6c4121b"
      },
      "outputs": [],
      "source": [
        "residuals = y_test - lr_pred\n",
        "model_name = 'Linear Regression'\n",
        "lr_metrics = calculate_metrics(y_test, lr_pred, covariates, model_name)\n",
        "lr_metrics.T\n"
      ]
    },
    {
      "cell_type": "code",
      "execution_count": null,
      "id": "6fdc9dd7",
      "metadata": {
        "id": "6fdc9dd7"
      },
      "outputs": [],
      "source": [
        "# Histogram for residuals\n",
        "plot_residual_histogram(residuals, model_name)\n"
      ]
    },
    {
      "cell_type": "code",
      "execution_count": null,
      "id": "a7a94686",
      "metadata": {
        "id": "a7a94686"
      },
      "outputs": [],
      "source": [
        "# Scatter plot (Residual vs Covariate)\n",
        "plot_residual_vs_covariates(residuals, covariates, model_name)\n"
      ]
    },
    {
      "cell_type": "code",
      "execution_count": null,
      "id": "5581736a",
      "metadata": {
        "id": "5581736a"
      },
      "outputs": [],
      "source": [
        "residuals = y_test - gpr_pred\n",
        "model_name = 'Gaussian Process'\n",
        "gpr_metrics = calculate_metrics(y_test, gpr_pred, covariates, model_name)\n",
        "gpr_metrics.T\n"
      ]
    },
    {
      "cell_type": "code",
      "execution_count": null,
      "id": "a3e8e942",
      "metadata": {
        "id": "a3e8e942"
      },
      "outputs": [],
      "source": [
        "# Histogram for residuals\n",
        "plot_residual_histogram(residuals, model_name)\n"
      ]
    },
    {
      "cell_type": "code",
      "execution_count": null,
      "id": "eec4af70",
      "metadata": {
        "id": "eec4af70"
      },
      "outputs": [],
      "source": [
        "# Scatter plot (Residual vs Covariate)\n",
        "plot_residual_vs_covariates(residuals, covariates, model_name)\n"
      ]
    },
    {
      "cell_type": "code",
      "execution_count": null,
      "id": "3ac3df20",
      "metadata": {
        "id": "3ac3df20"
      },
      "outputs": [],
      "source": [
        "combined_metrics = pd.concat([lr_metrics, gpr_metrics], ignore_index=True)\n",
        "combined_metrics\n"
      ]
    },
    {
      "cell_type": "code",
      "execution_count": null,
      "id": "30dcb59e",
      "metadata": {
        "id": "30dcb59e"
      },
      "outputs": [],
      "source": [
        "with open('model.pkl', 'wb') as f:\n",
        "    pickle.dump(gpr_model, f)\n"
      ]
    }
  ],
  "metadata": {
    "colab": {
      "collapsed_sections": [
        "mbDzdC6lOWR_"
      ],
      "provenance": []
    },
    "kernelspec": {
      "display_name": "Python 3 (ipykernel)",
      "language": "python",
      "name": "python3"
    },
    "language_info": {
      "codemirror_mode": {
        "name": "ipython",
        "version": 3
      },
      "file_extension": ".py",
      "mimetype": "text/x-python",
      "name": "python",
      "nbconvert_exporter": "python",
      "pygments_lexer": "ipython3",
      "version": "3.11.0"
    }
  },
  "nbformat": 4,
  "nbformat_minor": 5
}
