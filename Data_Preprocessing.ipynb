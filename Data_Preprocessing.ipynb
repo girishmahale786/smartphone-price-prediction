{
 "cells": [
  {
   "cell_type": "markdown",
   "id": "3b526e9c",
   "metadata": {},
   "source": [
    "**Importing Libraries**  \n",
    "We start by importing the necessary libraries, including scikit-learn for preprocessing tasks and Pandas for data manipulation."
   ]
  },
  {
   "cell_type": "code",
   "execution_count": 1,
   "id": "f0c804e4-5e72-4098-ba71-a31b3b07d91f",
   "metadata": {},
   "outputs": [],
   "source": [
    "from sklearn.preprocessing import LabelEncoder\n",
    "from sklearn.impute import KNNImputer\n",
    "import pandas as pd\n",
    "import numpy as np\n",
    "import re\n"
   ]
  },
  {
   "cell_type": "markdown",
   "id": "6f2e60a8",
   "metadata": {},
   "source": [
    "# Dataset Description\n",
    "\n",
    "We load the dataset 'smartphones.csv' and display the first few rows, shape, description, and information about the dataset. This helps us understand the data's structure and identify any missing values."
   ]
  },
  {
   "cell_type": "code",
   "execution_count": 2,
   "id": "d378b644",
   "metadata": {},
   "outputs": [
    {
     "data": {
      "text/html": [
       "<div>\n",
       "<style scoped>\n",
       "    .dataframe tbody tr th:only-of-type {\n",
       "        vertical-align: middle;\n",
       "    }\n",
       "\n",
       "    .dataframe tbody tr th {\n",
       "        vertical-align: top;\n",
       "    }\n",
       "\n",
       "    .dataframe thead th {\n",
       "        text-align: right;\n",
       "    }\n",
       "</style>\n",
       "<table border=\"1\" class=\"dataframe\">\n",
       "  <thead>\n",
       "    <tr style=\"text-align: right;\">\n",
       "      <th></th>\n",
       "      <th>Name</th>\n",
       "      <th>Brand</th>\n",
       "      <th>Price</th>\n",
       "      <th>Color</th>\n",
       "      <th>SIM Type</th>\n",
       "      <th>Hybrid Sim Slot</th>\n",
       "      <th>Display Size</th>\n",
       "      <th>Resolution</th>\n",
       "      <th>Resolution Type</th>\n",
       "      <th>Display Type</th>\n",
       "      <th>...</th>\n",
       "      <th>Width</th>\n",
       "      <th>Height</th>\n",
       "      <th>Depth</th>\n",
       "      <th>Weight</th>\n",
       "      <th>Quick Charging</th>\n",
       "      <th>Processor Core</th>\n",
       "      <th>Primary Clock Speed</th>\n",
       "      <th>Audio Jack</th>\n",
       "      <th>RAM</th>\n",
       "      <th>Expandable Storage</th>\n",
       "    </tr>\n",
       "  </thead>\n",
       "  <tbody>\n",
       "    <tr>\n",
       "      <th>0</th>\n",
       "      <td>APPLE iPhone 11 (Black, 128 GB)</td>\n",
       "      <td>APPLE Mobiles</td>\n",
       "      <td>₹48,900</td>\n",
       "      <td>Black</td>\n",
       "      <td>Dual Sim</td>\n",
       "      <td>No</td>\n",
       "      <td>15.49 cm (6.1 inch)</td>\n",
       "      <td>1792 x 828 Pixels</td>\n",
       "      <td>Liquid Retina HD Display</td>\n",
       "      <td>Liquid Retina HD</td>\n",
       "      <td>...</td>\n",
       "      <td>75.7 mm</td>\n",
       "      <td>150.9 mm</td>\n",
       "      <td>8.3 mm</td>\n",
       "      <td>194 g</td>\n",
       "      <td>NaN</td>\n",
       "      <td>NaN</td>\n",
       "      <td>NaN</td>\n",
       "      <td>NaN</td>\n",
       "      <td>NaN</td>\n",
       "      <td>NaN</td>\n",
       "    </tr>\n",
       "    <tr>\n",
       "      <th>1</th>\n",
       "      <td>APPLE iPhone 11 (Black, 64 GB)</td>\n",
       "      <td>APPLE Mobiles</td>\n",
       "      <td>₹43,900</td>\n",
       "      <td>Black</td>\n",
       "      <td>Dual Sim</td>\n",
       "      <td>No</td>\n",
       "      <td>15.49 cm (6.1 inch)</td>\n",
       "      <td>1792 x 828 Pixels</td>\n",
       "      <td>Liquid Retina HD Display</td>\n",
       "      <td>NaN</td>\n",
       "      <td>...</td>\n",
       "      <td>75.7 mm</td>\n",
       "      <td>150.9 mm</td>\n",
       "      <td>8.3 mm</td>\n",
       "      <td>194 g</td>\n",
       "      <td>NaN</td>\n",
       "      <td>NaN</td>\n",
       "      <td>NaN</td>\n",
       "      <td>NaN</td>\n",
       "      <td>NaN</td>\n",
       "      <td>NaN</td>\n",
       "    </tr>\n",
       "    <tr>\n",
       "      <th>2</th>\n",
       "      <td>APPLE iPhone 11 (White, 128 GB)</td>\n",
       "      <td>APPLE Mobiles</td>\n",
       "      <td>₹48,900</td>\n",
       "      <td>White</td>\n",
       "      <td>Dual Sim</td>\n",
       "      <td>No</td>\n",
       "      <td>15.49 cm (6.1 inch)</td>\n",
       "      <td>1792 x 828 Pixels</td>\n",
       "      <td>Liquid Retina HD Display</td>\n",
       "      <td>Liquid Retina HD</td>\n",
       "      <td>...</td>\n",
       "      <td>75.7 mm</td>\n",
       "      <td>150.9 mm</td>\n",
       "      <td>8.3 mm</td>\n",
       "      <td>194 g</td>\n",
       "      <td>NaN</td>\n",
       "      <td>NaN</td>\n",
       "      <td>NaN</td>\n",
       "      <td>NaN</td>\n",
       "      <td>NaN</td>\n",
       "      <td>NaN</td>\n",
       "    </tr>\n",
       "    <tr>\n",
       "      <th>3</th>\n",
       "      <td>APPLE iPhone 13 (Midnight, 128 GB)</td>\n",
       "      <td>APPLE Mobiles</td>\n",
       "      <td>₹69,900</td>\n",
       "      <td>Midnight</td>\n",
       "      <td>Dual Sim</td>\n",
       "      <td>No</td>\n",
       "      <td>15.49 cm (6.1 inch)</td>\n",
       "      <td>2532 x 1170 Pixels</td>\n",
       "      <td>Super Retina XDR Display</td>\n",
       "      <td>Super Retina XDR Display</td>\n",
       "      <td>...</td>\n",
       "      <td>71.5 mm</td>\n",
       "      <td>146.7 mm</td>\n",
       "      <td>7.65 mm</td>\n",
       "      <td>173 g</td>\n",
       "      <td>Yes</td>\n",
       "      <td>Hexa Core</td>\n",
       "      <td>NaN</td>\n",
       "      <td>NaN</td>\n",
       "      <td>NaN</td>\n",
       "      <td>NaN</td>\n",
       "    </tr>\n",
       "    <tr>\n",
       "      <th>4</th>\n",
       "      <td>APPLE iPhone 13 (Green, 128 GB)</td>\n",
       "      <td>APPLE Mobiles</td>\n",
       "      <td>₹69,900</td>\n",
       "      <td>Green</td>\n",
       "      <td>Dual Sim</td>\n",
       "      <td>No</td>\n",
       "      <td>15.49 cm (6.1 inch)</td>\n",
       "      <td>2532 x 1170 Pixels</td>\n",
       "      <td>Super Retina XDR Display</td>\n",
       "      <td>Super Retina XDR Display</td>\n",
       "      <td>...</td>\n",
       "      <td>71.5 mm</td>\n",
       "      <td>146.7 mm</td>\n",
       "      <td>7.65 mm</td>\n",
       "      <td>173 g</td>\n",
       "      <td>Yes</td>\n",
       "      <td>Hexa Core</td>\n",
       "      <td>NaN</td>\n",
       "      <td>NaN</td>\n",
       "      <td>NaN</td>\n",
       "      <td>NaN</td>\n",
       "    </tr>\n",
       "  </tbody>\n",
       "</table>\n",
       "<p>5 rows × 27 columns</p>\n",
       "</div>"
      ],
      "text/plain": [
       "                                 Name          Brand    Price     Color  \\\n",
       "0     APPLE iPhone 11 (Black, 128 GB)  APPLE Mobiles  ₹48,900     Black   \n",
       "1      APPLE iPhone 11 (Black, 64 GB)  APPLE Mobiles  ₹43,900     Black   \n",
       "2     APPLE iPhone 11 (White, 128 GB)  APPLE Mobiles  ₹48,900     White   \n",
       "3  APPLE iPhone 13 (Midnight, 128 GB)  APPLE Mobiles  ₹69,900  Midnight   \n",
       "4     APPLE iPhone 13 (Green, 128 GB)  APPLE Mobiles  ₹69,900     Green   \n",
       "\n",
       "   SIM Type Hybrid Sim Slot         Display Size          Resolution  \\\n",
       "0  Dual Sim              No  15.49 cm (6.1 inch)   1792 x 828 Pixels   \n",
       "1  Dual Sim              No  15.49 cm (6.1 inch)   1792 x 828 Pixels   \n",
       "2  Dual Sim              No  15.49 cm (6.1 inch)   1792 x 828 Pixels   \n",
       "3  Dual Sim              No  15.49 cm (6.1 inch)  2532 x 1170 Pixels   \n",
       "4  Dual Sim              No  15.49 cm (6.1 inch)  2532 x 1170 Pixels   \n",
       "\n",
       "            Resolution Type              Display Type  ...    Width    Height  \\\n",
       "0  Liquid Retina HD Display          Liquid Retina HD  ...  75.7 mm  150.9 mm   \n",
       "1  Liquid Retina HD Display                       NaN  ...  75.7 mm  150.9 mm   \n",
       "2  Liquid Retina HD Display          Liquid Retina HD  ...  75.7 mm  150.9 mm   \n",
       "3  Super Retina XDR Display  Super Retina XDR Display  ...  71.5 mm  146.7 mm   \n",
       "4  Super Retina XDR Display  Super Retina XDR Display  ...  71.5 mm  146.7 mm   \n",
       "\n",
       "     Depth Weight Quick Charging Processor Core Primary Clock Speed  \\\n",
       "0   8.3 mm  194 g            NaN            NaN                 NaN   \n",
       "1   8.3 mm  194 g            NaN            NaN                 NaN   \n",
       "2   8.3 mm  194 g            NaN            NaN                 NaN   \n",
       "3  7.65 mm  173 g            Yes      Hexa Core                 NaN   \n",
       "4  7.65 mm  173 g            Yes      Hexa Core                 NaN   \n",
       "\n",
       "  Audio Jack  RAM Expandable Storage  \n",
       "0        NaN  NaN                NaN  \n",
       "1        NaN  NaN                NaN  \n",
       "2        NaN  NaN                NaN  \n",
       "3        NaN  NaN                NaN  \n",
       "4        NaN  NaN                NaN  \n",
       "\n",
       "[5 rows x 27 columns]"
      ]
     },
     "execution_count": 2,
     "metadata": {},
     "output_type": "execute_result"
    }
   ],
   "source": [
    "df = pd.read_csv('smartphones.csv')\n",
    "df.head()\n"
   ]
  },
  {
   "cell_type": "code",
   "execution_count": 3,
   "id": "7b715197",
   "metadata": {},
   "outputs": [
    {
     "data": {
      "text/plain": [
       "(3296, 27)"
      ]
     },
     "execution_count": 3,
     "metadata": {},
     "output_type": "execute_result"
    }
   ],
   "source": [
    "df.shape\n"
   ]
  },
  {
   "cell_type": "code",
   "execution_count": 4,
   "id": "aa624041",
   "metadata": {},
   "outputs": [
    {
     "data": {
      "text/html": [
       "<div>\n",
       "<style scoped>\n",
       "    .dataframe tbody tr th:only-of-type {\n",
       "        vertical-align: middle;\n",
       "    }\n",
       "\n",
       "    .dataframe tbody tr th {\n",
       "        vertical-align: top;\n",
       "    }\n",
       "\n",
       "    .dataframe thead th {\n",
       "        text-align: right;\n",
       "    }\n",
       "</style>\n",
       "<table border=\"1\" class=\"dataframe\">\n",
       "  <thead>\n",
       "    <tr style=\"text-align: right;\">\n",
       "      <th></th>\n",
       "      <th>Name</th>\n",
       "      <th>Brand</th>\n",
       "      <th>Price</th>\n",
       "      <th>Color</th>\n",
       "      <th>SIM Type</th>\n",
       "      <th>Hybrid Sim Slot</th>\n",
       "      <th>Display Size</th>\n",
       "      <th>Resolution</th>\n",
       "      <th>Resolution Type</th>\n",
       "      <th>Display Type</th>\n",
       "      <th>...</th>\n",
       "      <th>Width</th>\n",
       "      <th>Height</th>\n",
       "      <th>Depth</th>\n",
       "      <th>Weight</th>\n",
       "      <th>Quick Charging</th>\n",
       "      <th>Processor Core</th>\n",
       "      <th>Primary Clock Speed</th>\n",
       "      <th>Audio Jack</th>\n",
       "      <th>RAM</th>\n",
       "      <th>Expandable Storage</th>\n",
       "    </tr>\n",
       "  </thead>\n",
       "  <tbody>\n",
       "    <tr>\n",
       "      <th>count</th>\n",
       "      <td>3296</td>\n",
       "      <td>3284</td>\n",
       "      <td>3296</td>\n",
       "      <td>3296</td>\n",
       "      <td>3296</td>\n",
       "      <td>3208</td>\n",
       "      <td>3296</td>\n",
       "      <td>3296</td>\n",
       "      <td>2470</td>\n",
       "      <td>2273</td>\n",
       "      <td>...</td>\n",
       "      <td>2564</td>\n",
       "      <td>2568</td>\n",
       "      <td>2562</td>\n",
       "      <td>2535</td>\n",
       "      <td>1068</td>\n",
       "      <td>2972</td>\n",
       "      <td>2890</td>\n",
       "      <td>1674</td>\n",
       "      <td>2864</td>\n",
       "      <td>1431</td>\n",
       "    </tr>\n",
       "    <tr>\n",
       "      <th>unique</th>\n",
       "      <td>2914</td>\n",
       "      <td>13</td>\n",
       "      <td>442</td>\n",
       "      <td>768</td>\n",
       "      <td>4</td>\n",
       "      <td>2</td>\n",
       "      <td>72</td>\n",
       "      <td>286</td>\n",
       "      <td>17</td>\n",
       "      <td>197</td>\n",
       "      <td>...</td>\n",
       "      <td>203</td>\n",
       "      <td>276</td>\n",
       "      <td>146</td>\n",
       "      <td>131</td>\n",
       "      <td>2</td>\n",
       "      <td>6</td>\n",
       "      <td>60</td>\n",
       "      <td>14</td>\n",
       "      <td>12</td>\n",
       "      <td>11</td>\n",
       "    </tr>\n",
       "    <tr>\n",
       "      <th>top</th>\n",
       "      <td>OnePlus 10R 5G (Sierra Black, 256 GB)  (12 GB ...</td>\n",
       "      <td>SAMSUNG Mobiles</td>\n",
       "      <td>₹17,999</td>\n",
       "      <td>Black</td>\n",
       "      <td>Dual Sim</td>\n",
       "      <td>No</td>\n",
       "      <td>16.51 cm (6.5 inch)</td>\n",
       "      <td>2400 x 1080 Pixels</td>\n",
       "      <td>Full HD+</td>\n",
       "      <td>Full HD+ AMOLED Display</td>\n",
       "      <td>...</td>\n",
       "      <td>71.5 mm</td>\n",
       "      <td>146.7 mm</td>\n",
       "      <td>8.3 mm</td>\n",
       "      <td>188 g</td>\n",
       "      <td>Yes</td>\n",
       "      <td>Octa Core</td>\n",
       "      <td>2.4 GHz</td>\n",
       "      <td>3.5mm</td>\n",
       "      <td>8 GB</td>\n",
       "      <td>1 TB</td>\n",
       "    </tr>\n",
       "    <tr>\n",
       "      <th>freq</th>\n",
       "      <td>6</td>\n",
       "      <td>563</td>\n",
       "      <td>100</td>\n",
       "      <td>166</td>\n",
       "      <td>3057</td>\n",
       "      <td>2251</td>\n",
       "      <td>367</td>\n",
       "      <td>633</td>\n",
       "      <td>1217</td>\n",
       "      <td>215</td>\n",
       "      <td>...</td>\n",
       "      <td>105</td>\n",
       "      <td>84</td>\n",
       "      <td>125</td>\n",
       "      <td>103</td>\n",
       "      <td>1048</td>\n",
       "      <td>2553</td>\n",
       "      <td>478</td>\n",
       "      <td>1089</td>\n",
       "      <td>899</td>\n",
       "      <td>557</td>\n",
       "    </tr>\n",
       "  </tbody>\n",
       "</table>\n",
       "<p>4 rows × 27 columns</p>\n",
       "</div>"
      ],
      "text/plain": [
       "                                                     Name            Brand  \\\n",
       "count                                                3296             3284   \n",
       "unique                                               2914               13   \n",
       "top     OnePlus 10R 5G (Sierra Black, 256 GB)  (12 GB ...  SAMSUNG Mobiles   \n",
       "freq                                                    6              563   \n",
       "\n",
       "          Price  Color  SIM Type Hybrid Sim Slot         Display Size  \\\n",
       "count      3296   3296      3296            3208                 3296   \n",
       "unique      442    768         4               2                   72   \n",
       "top     ₹17,999  Black  Dual Sim              No  16.51 cm (6.5 inch)   \n",
       "freq        100    166      3057            2251                  367   \n",
       "\n",
       "                Resolution Resolution Type             Display Type  ...  \\\n",
       "count                 3296            2470                     2273  ...   \n",
       "unique                 286              17                      197  ...   \n",
       "top     2400 x 1080 Pixels        Full HD+  Full HD+ AMOLED Display  ...   \n",
       "freq                   633            1217                      215  ...   \n",
       "\n",
       "          Width    Height   Depth Weight Quick Charging Processor Core  \\\n",
       "count      2564      2568    2562   2535           1068           2972   \n",
       "unique      203       276     146    131              2              6   \n",
       "top     71.5 mm  146.7 mm  8.3 mm  188 g            Yes      Octa Core   \n",
       "freq        105        84     125    103           1048           2553   \n",
       "\n",
       "       Primary Clock Speed Audio Jack   RAM Expandable Storage  \n",
       "count                 2890       1674  2864               1431  \n",
       "unique                  60         14    12                 11  \n",
       "top                2.4 GHz      3.5mm  8 GB               1 TB  \n",
       "freq                   478       1089   899                557  \n",
       "\n",
       "[4 rows x 27 columns]"
      ]
     },
     "execution_count": 4,
     "metadata": {},
     "output_type": "execute_result"
    }
   ],
   "source": [
    "df.describe()\n"
   ]
  },
  {
   "cell_type": "code",
   "execution_count": 5,
   "id": "cd704f07",
   "metadata": {},
   "outputs": [
    {
     "name": "stdout",
     "output_type": "stream",
     "text": [
      "<class 'pandas.core.frame.DataFrame'>\n",
      "RangeIndex: 3296 entries, 0 to 3295\n",
      "Data columns (total 27 columns):\n",
      " #   Column               Non-Null Count  Dtype \n",
      "---  ------               --------------  ----- \n",
      " 0   Name                 3296 non-null   object\n",
      " 1   Brand                3284 non-null   object\n",
      " 2   Price                3296 non-null   object\n",
      " 3   Color                3296 non-null   object\n",
      " 4   SIM Type             3296 non-null   object\n",
      " 5   Hybrid Sim Slot      3208 non-null   object\n",
      " 6   Display Size         3296 non-null   object\n",
      " 7   Resolution           3296 non-null   object\n",
      " 8   Resolution Type      2470 non-null   object\n",
      " 9   Display Type         2273 non-null   object\n",
      " 10  Processor Type       2550 non-null   object\n",
      " 11  Internal Storage     3296 non-null   object\n",
      " 12  Primary Camera       3293 non-null   object\n",
      " 13  Secondary Camera     2645 non-null   object\n",
      " 14  Network Type         3295 non-null   object\n",
      " 15  Bluetooth Version    2440 non-null   object\n",
      " 16  Battery Capacity     2963 non-null   object\n",
      " 17  Width                2564 non-null   object\n",
      " 18  Height               2568 non-null   object\n",
      " 19  Depth                2562 non-null   object\n",
      " 20  Weight               2535 non-null   object\n",
      " 21  Quick Charging       1068 non-null   object\n",
      " 22  Processor Core       2972 non-null   object\n",
      " 23  Primary Clock Speed  2890 non-null   object\n",
      " 24  Audio Jack           1674 non-null   object\n",
      " 25  RAM                  2864 non-null   object\n",
      " 26  Expandable Storage   1431 non-null   object\n",
      "dtypes: object(27)\n",
      "memory usage: 695.4+ KB\n"
     ]
    }
   ],
   "source": [
    "df.info()\n"
   ]
  },
  {
   "cell_type": "code",
   "execution_count": 6,
   "id": "e8dd39c3",
   "metadata": {},
   "outputs": [
    {
     "data": {
      "text/plain": [
       "14371"
      ]
     },
     "execution_count": 6,
     "metadata": {},
     "output_type": "execute_result"
    }
   ],
   "source": [
    "df.isna().sum().sum()\n"
   ]
  },
  {
   "cell_type": "code",
   "execution_count": 7,
   "id": "fa46a82a",
   "metadata": {},
   "outputs": [
    {
     "data": {
      "text/plain": [
       "Name                      0\n",
       "Brand                    12\n",
       "Price                     0\n",
       "Color                     0\n",
       "SIM Type                  0\n",
       "Hybrid Sim Slot          88\n",
       "Display Size              0\n",
       "Resolution                0\n",
       "Resolution Type         826\n",
       "Display Type           1023\n",
       "Processor Type          746\n",
       "Internal Storage          0\n",
       "Primary Camera            3\n",
       "Secondary Camera        651\n",
       "Network Type              1\n",
       "Bluetooth Version       856\n",
       "Battery Capacity        333\n",
       "Width                   732\n",
       "Height                  728\n",
       "Depth                   734\n",
       "Weight                  761\n",
       "Quick Charging         2228\n",
       "Processor Core          324\n",
       "Primary Clock Speed     406\n",
       "Audio Jack             1622\n",
       "RAM                     432\n",
       "Expandable Storage     1865\n",
       "dtype: int64"
      ]
     },
     "execution_count": 7,
     "metadata": {},
     "output_type": "execute_result"
    }
   ],
   "source": [
    "df.isna().sum()\n"
   ]
  },
  {
   "cell_type": "markdown",
   "id": "c2c58372",
   "metadata": {},
   "source": [
    "# Data Preprocessing  \n",
    "\n",
    "We begin the data preprocessing phase. We perform various transformations to make the data more suitable for machine learning. We start by converting strings in object columns to lowercase for consistency."
   ]
  },
  {
   "cell_type": "code",
   "execution_count": 8,
   "id": "2b0d7ad0",
   "metadata": {},
   "outputs": [],
   "source": [
    "object_cols = df.select_dtypes('object')\n",
    "df[object_cols.columns] = object_cols.apply(lambda col: col.str.lower())\n"
   ]
  },
  {
   "cell_type": "markdown",
   "id": "546890a9",
   "metadata": {},
   "source": [
    "### Brand Preprocessing\n",
    "\n",
    "- We address missing values in the 'Brand' column by extracting the brand from the 'Name' column where it's missing.\n",
    "- We encode the 'Brand' column using Label Encoding to convert brand names into numerical categories."
   ]
  },
  {
   "cell_type": "code",
   "execution_count": 9,
   "id": "3e24f84d",
   "metadata": {},
   "outputs": [
    {
     "data": {
      "text/plain": [
       "12"
      ]
     },
     "execution_count": 9,
     "metadata": {},
     "output_type": "execute_result"
    }
   ],
   "source": [
    "df['Brand'].isna().sum()\n"
   ]
  },
  {
   "cell_type": "code",
   "execution_count": 10,
   "id": "0adc53b7",
   "metadata": {},
   "outputs": [
    {
     "data": {
      "text/plain": [
       "Brand\n",
       "samsung mobiles     563\n",
       "apple mobiles       432\n",
       "realme mobiles      392\n",
       "vivo mobiles        308\n",
       "redmi mobiles       277\n",
       "oppo mobiles        275\n",
       "mi mobiles          264\n",
       "oneplus mobiles     215\n",
       "iqoo mobiles        159\n",
       "poco mobiles        137\n",
       "asus mobiles        135\n",
       "motorola mobiles    113\n",
       "google mobiles       14\n",
       "Name: count, dtype: int64"
      ]
     },
     "execution_count": 10,
     "metadata": {},
     "output_type": "execute_result"
    }
   ],
   "source": [
    "df['Brand'].value_counts()\n"
   ]
  },
  {
   "cell_type": "code",
   "execution_count": 11,
   "id": "e1c55e5e",
   "metadata": {},
   "outputs": [
    {
     "data": {
      "text/plain": [
       "Brand\n",
       "samsung     563\n",
       "apple       432\n",
       "realme      392\n",
       "vivo        308\n",
       "redmi       277\n",
       "oppo        275\n",
       "mi          264\n",
       "oneplus     215\n",
       "iqoo        159\n",
       "poco        137\n",
       "asus        135\n",
       "motorola    113\n",
       "google       14\n",
       "Name: count, dtype: int64"
      ]
     },
     "execution_count": 11,
     "metadata": {},
     "output_type": "execute_result"
    }
   ],
   "source": [
    "df['Brand'] = df['Brand'].str.replace('mobiles', '').str.strip()\n",
    "df['Brand'].value_counts()\n"
   ]
  },
  {
   "cell_type": "code",
   "execution_count": 12,
   "id": "47b2b8af",
   "metadata": {},
   "outputs": [
    {
     "data": {
      "text/html": [
       "<div>\n",
       "<style scoped>\n",
       "    .dataframe tbody tr th:only-of-type {\n",
       "        vertical-align: middle;\n",
       "    }\n",
       "\n",
       "    .dataframe tbody tr th {\n",
       "        vertical-align: top;\n",
       "    }\n",
       "\n",
       "    .dataframe thead th {\n",
       "        text-align: right;\n",
       "    }\n",
       "</style>\n",
       "<table border=\"1\" class=\"dataframe\">\n",
       "  <thead>\n",
       "    <tr style=\"text-align: right;\">\n",
       "      <th></th>\n",
       "      <th>Name</th>\n",
       "      <th>Brand</th>\n",
       "    </tr>\n",
       "  </thead>\n",
       "  <tbody>\n",
       "    <tr>\n",
       "      <th>1117</th>\n",
       "      <td>nothing phone (2) (white, 512 gb)  (12 gb ram)</td>\n",
       "      <td>NaN</td>\n",
       "    </tr>\n",
       "    <tr>\n",
       "      <th>1118</th>\n",
       "      <td>nothing phone (2) (dark grey, 128 gb)  (8 gb ram)</td>\n",
       "      <td>NaN</td>\n",
       "    </tr>\n",
       "    <tr>\n",
       "      <th>1119</th>\n",
       "      <td>nothing phone (1) (white, 256 gb)  (8 gb ram)</td>\n",
       "      <td>NaN</td>\n",
       "    </tr>\n",
       "    <tr>\n",
       "      <th>1120</th>\n",
       "      <td>nothing phone (1) (black, 256 gb)  (8 gb ram)</td>\n",
       "      <td>NaN</td>\n",
       "    </tr>\n",
       "    <tr>\n",
       "      <th>1121</th>\n",
       "      <td>nothing phone (1) (black, 128 gb)  (8 gb ram)</td>\n",
       "      <td>NaN</td>\n",
       "    </tr>\n",
       "    <tr>\n",
       "      <th>1122</th>\n",
       "      <td>nothing phone (2) (dark grey, 256 gb)  (12 gb ...</td>\n",
       "      <td>NaN</td>\n",
       "    </tr>\n",
       "    <tr>\n",
       "      <th>1123</th>\n",
       "      <td>nothing phone (2) (white, 256 gb)  (12 gb ram)</td>\n",
       "      <td>NaN</td>\n",
       "    </tr>\n",
       "    <tr>\n",
       "      <th>1124</th>\n",
       "      <td>nothing phone (2) (dark grey, 512 gb)  (12 gb ...</td>\n",
       "      <td>NaN</td>\n",
       "    </tr>\n",
       "    <tr>\n",
       "      <th>1125</th>\n",
       "      <td>nothing phone (1) (black, 256 gb)  (12 gb ram)</td>\n",
       "      <td>NaN</td>\n",
       "    </tr>\n",
       "    <tr>\n",
       "      <th>1126</th>\n",
       "      <td>nothing phone (1) (white, 256 gb)  (12 gb ram)</td>\n",
       "      <td>NaN</td>\n",
       "    </tr>\n",
       "    <tr>\n",
       "      <th>2361</th>\n",
       "      <td>redmi note 9 pro max (interstellar black, 128 ...</td>\n",
       "      <td>NaN</td>\n",
       "    </tr>\n",
       "    <tr>\n",
       "      <th>2362</th>\n",
       "      <td>redmi note 9 pro max (interstellar black, 128 ...</td>\n",
       "      <td>NaN</td>\n",
       "    </tr>\n",
       "  </tbody>\n",
       "</table>\n",
       "</div>"
      ],
      "text/plain": [
       "                                                   Name Brand\n",
       "1117     nothing phone (2) (white, 512 gb)  (12 gb ram)   NaN\n",
       "1118  nothing phone (2) (dark grey, 128 gb)  (8 gb ram)   NaN\n",
       "1119      nothing phone (1) (white, 256 gb)  (8 gb ram)   NaN\n",
       "1120      nothing phone (1) (black, 256 gb)  (8 gb ram)   NaN\n",
       "1121      nothing phone (1) (black, 128 gb)  (8 gb ram)   NaN\n",
       "1122  nothing phone (2) (dark grey, 256 gb)  (12 gb ...   NaN\n",
       "1123     nothing phone (2) (white, 256 gb)  (12 gb ram)   NaN\n",
       "1124  nothing phone (2) (dark grey, 512 gb)  (12 gb ...   NaN\n",
       "1125     nothing phone (1) (black, 256 gb)  (12 gb ram)   NaN\n",
       "1126     nothing phone (1) (white, 256 gb)  (12 gb ram)   NaN\n",
       "2361  redmi note 9 pro max (interstellar black, 128 ...   NaN\n",
       "2362  redmi note 9 pro max (interstellar black, 128 ...   NaN"
      ]
     },
     "execution_count": 12,
     "metadata": {},
     "output_type": "execute_result"
    }
   ],
   "source": [
    "df[['Name', 'Brand']][df['Brand'].isna()]\n"
   ]
  },
  {
   "cell_type": "code",
   "execution_count": 13,
   "id": "ff8a3a90",
   "metadata": {},
   "outputs": [
    {
     "data": {
      "text/plain": [
       "0"
      ]
     },
     "execution_count": 13,
     "metadata": {},
     "output_type": "execute_result"
    }
   ],
   "source": [
    "def get_brand(name):\n",
    "    return name.split(' ')[0]\n",
    "\n",
    "new_brand = df['Name'].apply(get_brand)\n",
    "df['Brand'].fillna(new_brand, inplace=True)\n",
    "df.drop(columns=['Name'], inplace=True)\n",
    "df['Brand'].isna().sum()\n"
   ]
  },
  {
   "cell_type": "code",
   "execution_count": 14,
   "id": "200441b8",
   "metadata": {},
   "outputs": [
    {
     "data": {
      "text/plain": [
       "Brand\n",
       "12    563\n",
       "0     432\n",
       "10    392\n",
       "13    308\n",
       "11    279\n",
       "8     275\n",
       "4     264\n",
       "7     215\n",
       "3     159\n",
       "9     137\n",
       "1     135\n",
       "5     113\n",
       "2      14\n",
       "6      10\n",
       "Name: count, dtype: int64"
      ]
     },
     "execution_count": 14,
     "metadata": {},
     "output_type": "execute_result"
    }
   ],
   "source": [
    "le = LabelEncoder()\n",
    "df['Brand'] = le.fit_transform(df['Brand'])\n",
    "df['Brand'] = df['Brand'].astype('category')\n",
    "df['Brand'].value_counts()\n"
   ]
  },
  {
   "cell_type": "markdown",
   "id": "bbf70f52",
   "metadata": {},
   "source": [
    "### Price Preprocessing\n",
    "\n",
    "We clean the 'Price' column by removing currency symbols and commas and converting it to an integer."
   ]
  },
  {
   "cell_type": "code",
   "execution_count": 15,
   "id": "1f0ce1dd",
   "metadata": {},
   "outputs": [],
   "source": [
    "def clean_price(price_str):\n",
    "    return price_str.replace('₹', '').replace(',', '')\n",
    "\n",
    "df['Price'] = df['Price'].apply(clean_price).astype(int)\n"
   ]
  },
  {
   "cell_type": "markdown",
   "id": "606771e8",
   "metadata": {},
   "source": [
    "### Color Preprocessing\n",
    "\n",
    "- We clean the 'Color' column by categorizing similar colors and handling values that occur less frequently.\n",
    "- We encode the 'Color' column using Label Encoding."
   ]
  },
  {
   "cell_type": "code",
   "execution_count": 16,
   "id": "abcb8762",
   "metadata": {},
   "outputs": [
    {
     "data": {
      "text/plain": [
       "Color\n",
       "black              166\n",
       "gold               109\n",
       "blue                82\n",
       "silver              81\n",
       "white               69\n",
       "                  ... \n",
       "silk white           1\n",
       "?stardust brown      1\n",
       "bronze               1\n",
       "stardust silver      1\n",
       "racing black         1\n",
       "Name: count, Length: 734, dtype: int64"
      ]
     },
     "execution_count": 16,
     "metadata": {},
     "output_type": "execute_result"
    }
   ],
   "source": [
    "df['Color'].value_counts()\n"
   ]
  },
  {
   "cell_type": "code",
   "execution_count": 17,
   "id": "bbef8f0e",
   "metadata": {},
   "outputs": [
    {
     "data": {
      "text/plain": [
       "Color\n",
       "black             817\n",
       "blue              658\n",
       "green             261\n",
       "white             244\n",
       "gold              204\n",
       "                 ... \n",
       "bronze              1\n",
       "viva magneta        1\n",
       "satin maroon        1\n",
       "radiant mist        1\n",
       "marble odyssey      1\n",
       "Name: count, Length: 131, dtype: int64"
      ]
     },
     "execution_count": 17,
     "metadata": {},
     "output_type": "execute_result"
    }
   ],
   "source": [
    "def clean_var(choices, df, var):\n",
    "    for choice in choices:\n",
    "        idx = df[var][df[var].str.contains(choice)].index\n",
    "        df.loc[idx, var] = choice\n",
    "\n",
    "colors = ['black', 'blue', 'green', 'white', 'gold', 'silver', 'red', 'grey', 'gray', 'purple', 'night', 'yellow', 'orange', 'graphite', 'sky', 'mint', 'voilet', 'diamond', 'starlight', 'coral', 'sunset', 'cream', 'copper', 'brown', 'pink']\n",
    "clean_var(colors, df, 'Color')\n",
    "df['Color'].value_counts()\n"
   ]
  },
  {
   "cell_type": "code",
   "execution_count": 18,
   "id": "8a128425",
   "metadata": {},
   "outputs": [],
   "source": [
    "color_groups = {\n",
    "    'blue': ['sky', 'night'],\n",
    "    'red': ['coral', 'pink', 'sunset'],\n",
    "    'green': ['mint'],\n",
    "    'orange': ['copper', 'brown'],\n",
    "    'silver': ['diamond', 'starlight'],\n",
    "    'gray': ['grey', 'graphite'],\n",
    "    'purple': ['voilet', 'lavender']\n",
    "}\n",
    "\n",
    "for color_group, colors in color_groups.items():\n",
    "    for color in colors:\n",
    "        df['Color'].replace(color, color_group, inplace=True)\n"
   ]
  },
  {
   "cell_type": "code",
   "execution_count": 19,
   "id": "912814d8",
   "metadata": {},
   "outputs": [
    {
     "data": {
      "text/plain": [
       "Color\n",
       "black     817\n",
       "blue      726\n",
       "green     282\n",
       "others    279\n",
       "white     244\n",
       "silver    220\n",
       "gold      204\n",
       "gray      178\n",
       "red       160\n",
       "purple     96\n",
       "orange     49\n",
       "yellow     41\n",
       "Name: count, dtype: int64"
      ]
     },
     "execution_count": 19,
     "metadata": {},
     "output_type": "execute_result"
    }
   ],
   "source": [
    "extra_colors = df['Color'].value_counts()[df['Color'].value_counts() < 30].index\n",
    "for color in extra_colors:\n",
    "    idx = df['Color'][df['Color'].str.contains(color)].index\n",
    "    df.loc[idx, 'Color'] = 'others'\n",
    "df['Color'].value_counts()\n"
   ]
  },
  {
   "cell_type": "code",
   "execution_count": 20,
   "id": "efd8728d",
   "metadata": {},
   "outputs": [
    {
     "data": {
      "text/plain": [
       "Color\n",
       "0     817\n",
       "1     726\n",
       "4     282\n",
       "6     279\n",
       "10    244\n",
       "9     220\n",
       "2     204\n",
       "3     178\n",
       "8     160\n",
       "7      96\n",
       "5      49\n",
       "11     41\n",
       "Name: count, dtype: int64"
      ]
     },
     "execution_count": 20,
     "metadata": {},
     "output_type": "execute_result"
    }
   ],
   "source": [
    "le = LabelEncoder()\n",
    "df['Color'] = le.fit_transform(df['Color'])\n",
    "df['Color'] = df['Color'].astype('category')\n",
    "df['Color'].value_counts()\n"
   ]
  },
  {
   "cell_type": "markdown",
   "id": "fe23c7ac",
   "metadata": {},
   "source": [
    "### SIM Type Preprocessing\n",
    "\n",
    "We encode the 'SIM Type' column using Label Encoding."
   ]
  },
  {
   "cell_type": "code",
   "execution_count": 21,
   "id": "70ee17ea",
   "metadata": {},
   "outputs": [
    {
     "data": {
      "text/plain": [
       "SIM Type\n",
       "0    3057\n",
       "3     140\n",
       "1      94\n",
       "2       5\n",
       "Name: count, dtype: int64"
      ]
     },
     "execution_count": 21,
     "metadata": {},
     "output_type": "execute_result"
    }
   ],
   "source": [
    "le = LabelEncoder()\n",
    "df['SIM Type'] = le.fit_transform(df['SIM Type'])\n",
    "df['SIM Type'] = df['SIM Type'].astype('category')\n",
    "df['SIM Type'].value_counts()\n"
   ]
  },
  {
   "cell_type": "markdown",
   "id": "8baa0db5",
   "metadata": {},
   "source": [
    "### Hybrid Sim Slot Preprocessing\n",
    "\n",
    "- We handle missing values in the 'Hybrid Sim Slot' column based on the 'SIM Type.'\n",
    "- We encode the 'Hybrid Sim Slot' column using Label Encoding."
   ]
  },
  {
   "cell_type": "code",
   "execution_count": 22,
   "id": "da05d1d3",
   "metadata": {},
   "outputs": [
    {
     "data": {
      "text/plain": [
       "88"
      ]
     },
     "execution_count": 22,
     "metadata": {},
     "output_type": "execute_result"
    }
   ],
   "source": [
    "df['Hybrid Sim Slot'].isna().sum()\n"
   ]
  },
  {
   "cell_type": "code",
   "execution_count": 23,
   "id": "0193d1b9",
   "metadata": {},
   "outputs": [
    {
     "data": {
      "text/plain": [
       "Hybrid Sim Slot\n",
       "no     2251\n",
       "yes     957\n",
       "Name: count, dtype: int64"
      ]
     },
     "execution_count": 23,
     "metadata": {},
     "output_type": "execute_result"
    }
   ],
   "source": [
    "df['Hybrid Sim Slot'].value_counts()\n"
   ]
  },
  {
   "cell_type": "code",
   "execution_count": 24,
   "id": "f2cd61d5",
   "metadata": {},
   "outputs": [],
   "source": [
    "no_hsim = df['Hybrid Sim Slot'][df['Hybrid Sim Slot'].isna()][df['SIM Type'] == 'single sim'].index\n",
    "df.loc[no_hsim, 'Hybrid Sim Slot'] = 'no'\n"
   ]
  },
  {
   "cell_type": "code",
   "execution_count": 25,
   "id": "90de7cac",
   "metadata": {},
   "outputs": [
    {
     "data": {
      "text/plain": [
       "Hybrid Sim Slot\n",
       "0.0    2251\n",
       "1.0     957\n",
       "Name: count, dtype: int64"
      ]
     },
     "execution_count": 25,
     "metadata": {},
     "output_type": "execute_result"
    }
   ],
   "source": [
    "df['Hybrid Sim Slot'] = df['Hybrid Sim Slot'].apply(lambda x: 1 if x == 'yes' else (0 if x == 'no' else np.nan))\n",
    "df['Hybrid Sim Slot'].value_counts()\n"
   ]
  },
  {
   "cell_type": "code",
   "execution_count": 26,
   "id": "a10835b4",
   "metadata": {},
   "outputs": [
    {
     "data": {
      "text/plain": [
       "0"
      ]
     },
     "execution_count": 26,
     "metadata": {},
     "output_type": "execute_result"
    }
   ],
   "source": [
    "imputer = KNNImputer()\n",
    "imputed_data = imputer.fit_transform(df[['Hybrid Sim Slot']])\n",
    "imputed_data = pd.Series([l[0] for l in list(imputed_data)], name='Hybrid Sim Slot')\n",
    "df['Hybrid Sim Slot'] = imputed_data.astype(int).astype('category')\n",
    "df['Hybrid Sim Slot'].isna().sum()\n"
   ]
  },
  {
   "cell_type": "markdown",
   "id": "9a17698b",
   "metadata": {},
   "source": [
    "### Display Size Preprocessing\n",
    "\n",
    "We extract and rename the 'Display Size' column to 'Display Size (cm).'"
   ]
  },
  {
   "cell_type": "code",
   "execution_count": 27,
   "id": "a119e821",
   "metadata": {},
   "outputs": [],
   "source": [
    "df['Display Size'] = df['Display Size'].str.extract(r'(\\d+\\.*\\d*)\\s*cm').astype(float)\n",
    "df.rename(columns={'Display Size': 'Display Size (cm)'}, inplace=True)\n"
   ]
  },
  {
   "cell_type": "markdown",
   "id": "13eb9038",
   "metadata": {},
   "source": [
    "### Display & Resolution Type Preprocessing\n",
    "\n",
    "- We clean and categorize the 'Display Type' and 'Resolution Type' columns.\n",
    "- We handle missing values in both columns based on the other.\n",
    "- We encode both columns using Label Encoding."
   ]
  },
  {
   "cell_type": "markdown",
   "id": "28dcfdce",
   "metadata": {},
   "source": [
    "#### Display Type"
   ]
  },
  {
   "cell_type": "code",
   "execution_count": 28,
   "id": "32a268b8",
   "metadata": {},
   "outputs": [
    {
     "data": {
      "text/plain": [
       "Display Type\n",
       "full hd+ amoled display                   215\n",
       "super retina xdr display                  197\n",
       "full hd+ display                          118\n",
       "full hd+ super amoled display             103\n",
       "super amoled                               95\n",
       "                                         ... \n",
       "ltps ips with tol                           1\n",
       "pls tft lcd                                 1\n",
       "optic amoled                                1\n",
       "dynamic amoled 2x - infinity-o display      1\n",
       "oled fhd+display                            1\n",
       "Name: count, Length: 189, dtype: int64"
      ]
     },
     "execution_count": 28,
     "metadata": {},
     "output_type": "execute_result"
    }
   ],
   "source": [
    "df['Display Type'].value_counts()\n"
   ]
  },
  {
   "cell_type": "code",
   "execution_count": 29,
   "id": "464959c3",
   "metadata": {},
   "outputs": [],
   "source": [
    "df['Display Type'] = df['Display Type'].str.replace('display', '').str.strip()\n",
    "df['Display Type'].fillna('unknown', inplace=True)\n",
    "choices = ['retina', 'amoled', ' oled', 'oled ', 'lcd', 'ips', 'hd', 'tft']\n",
    "clean_var(choices, df, 'Display Type')\n"
   ]
  },
  {
   "cell_type": "code",
   "execution_count": 30,
   "id": "707c2927",
   "metadata": {},
   "outputs": [],
   "source": [
    "disp_groups = {\n",
    "    'oled': [' oled', 'oled ']\n",
    "}\n",
    "\n",
    "for disp_group, disps in disp_groups.items():\n",
    "    for disp in disps:\n",
    "        df['Display Type'].replace(disp, disp_group, inplace=True)\n"
   ]
  },
  {
   "cell_type": "code",
   "execution_count": 31,
   "id": "487ec76e",
   "metadata": {},
   "outputs": [
    {
     "data": {
      "text/plain": [
       "Display Type\n",
       "unknown    1023\n",
       "amoled      804\n",
       "lcd         633\n",
       "hd          235\n",
       "retina      229\n",
       "ips         196\n",
       "oled         95\n",
       "tft          49\n",
       "others       32\n",
       "Name: count, dtype: int64"
      ]
     },
     "execution_count": 31,
     "metadata": {},
     "output_type": "execute_result"
    }
   ],
   "source": [
    "extra_disps = df['Display Type'].value_counts()[df['Display Type'].value_counts() < 40].index\n",
    "for disp in extra_disps:\n",
    "    idx = df['Display Type'][df['Display Type'].str.contains(disp)].index\n",
    "    df.loc[idx, 'Display Type'] = 'others'\n",
    "df['Display Type'].value_counts()\n"
   ]
  },
  {
   "cell_type": "code",
   "execution_count": 32,
   "id": "20fd4f0d",
   "metadata": {},
   "outputs": [
    {
     "data": {
      "text/plain": [
       "Display Type\n",
       "8    1023\n",
       "0     804\n",
       "3     633\n",
       "1     235\n",
       "6     229\n",
       "2     196\n",
       "4      95\n",
       "7      49\n",
       "5      32\n",
       "Name: count, dtype: int64"
      ]
     },
     "execution_count": 32,
     "metadata": {},
     "output_type": "execute_result"
    }
   ],
   "source": [
    "le = LabelEncoder()\n",
    "df['Display Type'] = le.fit_transform(df['Display Type'])\n",
    "df['Display Type'].value_counts()\n"
   ]
  },
  {
   "cell_type": "markdown",
   "id": "b5f6f98c",
   "metadata": {},
   "source": [
    "#### Resolution Type"
   ]
  },
  {
   "cell_type": "code",
   "execution_count": 33,
   "id": "fbb9d9e8",
   "metadata": {},
   "outputs": [
    {
     "data": {
      "text/plain": [
       "Resolution Type\n",
       "full hd+                            1217\n",
       "hd+                                  444\n",
       "super retina xdr display             221\n",
       "full hd+ amoled display              135\n",
       "retina hd display                    125\n",
       "full hd                              107\n",
       "hd                                    63\n",
       "quad hd+                              44\n",
       "full hd+ super amoled display         36\n",
       "retina display                        23\n",
       "super retina hd display               21\n",
       "liquid retina hd display              12\n",
       "quad hd                                9\n",
       "full hd+ e3 super amoled display       7\n",
       "qxga+                                  3\n",
       "wvga                                   2\n",
       "wqhd                                   1\n",
       "Name: count, dtype: int64"
      ]
     },
     "execution_count": 33,
     "metadata": {},
     "output_type": "execute_result"
    }
   ],
   "source": [
    "df['Resolution Type'].value_counts()\n"
   ]
  },
  {
   "cell_type": "code",
   "execution_count": 34,
   "id": "7e643ef7",
   "metadata": {},
   "outputs": [],
   "source": [
    "df['Resolution Type'] = df['Resolution Type'].str.replace('display', '').str.strip()\n",
    "df['Resolution Type'].fillna('unknown', inplace=True)\n",
    "choices = ['retina', 'amoled', 'hd']\n",
    "clean_var(choices, df, 'Resolution Type')\n"
   ]
  },
  {
   "cell_type": "code",
   "execution_count": 35,
   "id": "151221b5",
   "metadata": {},
   "outputs": [
    {
     "data": {
      "text/plain": [
       "Resolution Type\n",
       "hd         1885\n",
       "unknown     826\n",
       "retina      402\n",
       "amoled      183\n",
       "Name: count, dtype: int64"
      ]
     },
     "execution_count": 35,
     "metadata": {},
     "output_type": "execute_result"
    }
   ],
   "source": [
    "res_groups = {\n",
    "    'amoled': ['qxga+', 'wvga']\n",
    "}\n",
    "\n",
    "for res_group, ress in res_groups.items():\n",
    "    for res in ress:\n",
    "        df['Resolution Type'].replace(res, res_group, inplace=True)\n",
    "df['Resolution Type'].value_counts()\n"
   ]
  },
  {
   "cell_type": "code",
   "execution_count": 36,
   "id": "f2c16512",
   "metadata": {},
   "outputs": [
    {
     "data": {
      "text/plain": [
       "Resolution Type\n",
       "1    1885\n",
       "3     826\n",
       "2     402\n",
       "0     183\n",
       "Name: count, dtype: int64"
      ]
     },
     "execution_count": 36,
     "metadata": {},
     "output_type": "execute_result"
    }
   ],
   "source": [
    "le = LabelEncoder()\n",
    "df['Resolution Type'] = le.fit_transform(df['Resolution Type'])\n",
    "df['Resolution Type'].value_counts()\n"
   ]
  },
  {
   "cell_type": "markdown",
   "id": "1d7c71af",
   "metadata": {},
   "source": [
    "#### Handling NULL Values"
   ]
  },
  {
   "cell_type": "code",
   "execution_count": 37,
   "id": "59137113",
   "metadata": {},
   "outputs": [],
   "source": [
    "df.loc[df['Display Type'][df['Display Type'] == 8].index, 'Display Type'] = np.nan\n",
    "\n",
    "df.loc[df['Resolution Type'][df['Resolution Type'] == 3].index, 'Resolution Type'] = np.nan\n"
   ]
  },
  {
   "cell_type": "code",
   "execution_count": 38,
   "id": "d5e3af6f",
   "metadata": {},
   "outputs": [
    {
     "data": {
      "text/plain": [
       "1023"
      ]
     },
     "execution_count": 38,
     "metadata": {},
     "output_type": "execute_result"
    }
   ],
   "source": [
    "df['Display Type'].isna().sum()\n"
   ]
  },
  {
   "cell_type": "code",
   "execution_count": 39,
   "id": "2d3e8933",
   "metadata": {},
   "outputs": [
    {
     "data": {
      "text/plain": [
       "725"
      ]
     },
     "execution_count": 39,
     "metadata": {},
     "output_type": "execute_result"
    }
   ],
   "source": [
    "res_to_disp = df['Display Type'].isna().index\n",
    "df['Display Type'].fillna(df['Resolution Type'][res_to_disp], inplace=True)\n",
    "df['Display Type'].isna().sum()\n"
   ]
  },
  {
   "cell_type": "code",
   "execution_count": 40,
   "id": "e579834e",
   "metadata": {},
   "outputs": [
    {
     "data": {
      "text/plain": [
       "826"
      ]
     },
     "execution_count": 40,
     "metadata": {},
     "output_type": "execute_result"
    }
   ],
   "source": [
    "df['Resolution Type'].isna().sum()\n"
   ]
  },
  {
   "cell_type": "code",
   "execution_count": 41,
   "id": "a54332a9",
   "metadata": {},
   "outputs": [
    {
     "data": {
      "text/plain": [
       "725"
      ]
     },
     "execution_count": 41,
     "metadata": {},
     "output_type": "execute_result"
    }
   ],
   "source": [
    "disp_to_res = df['Resolution Type'].isna().index\n",
    "df['Resolution Type'].fillna(df['Display Type'][disp_to_res], inplace=True)\n",
    "df['Resolution Type'].isna().sum()\n"
   ]
  },
  {
   "cell_type": "code",
   "execution_count": 42,
   "id": "71b6f5e7",
   "metadata": {},
   "outputs": [
    {
     "data": {
      "text/plain": [
       "0"
      ]
     },
     "execution_count": 42,
     "metadata": {},
     "output_type": "execute_result"
    }
   ],
   "source": [
    "imputer = KNNImputer()\n",
    "imputed_data = imputer.fit_transform(df[['Display Type', 'Resolution Type']])\n",
    "imputed_data = pd.DataFrame(imputed_data, columns=['Display Type', 'Resolution Type'])\n",
    "df['Display Type'] = imputed_data['Display Type'].astype(int).astype('category')\n",
    "df['Resolution Type'] = imputed_data['Resolution Type'].astype(int).astype('category')\n",
    "df['Display Type'].isna().sum()\n"
   ]
  },
  {
   "cell_type": "code",
   "execution_count": 43,
   "id": "59f66603",
   "metadata": {},
   "outputs": [
    {
     "data": {
      "text/plain": [
       "0"
      ]
     },
     "execution_count": 43,
     "metadata": {},
     "output_type": "execute_result"
    }
   ],
   "source": [
    "df['Resolution Type'].isna().sum()\n"
   ]
  },
  {
   "cell_type": "markdown",
   "id": "f63558b8",
   "metadata": {},
   "source": [
    "### Resolution Prepocessing\n",
    "\n",
    "We extract pixel width and height from the 'Resolution' column."
   ]
  },
  {
   "cell_type": "code",
   "execution_count": 44,
   "id": "036c468f",
   "metadata": {},
   "outputs": [],
   "source": [
    "px_w = df['Resolution'].apply(lambda x: re.findall('[0-9]+', x)[0]).astype(int)\n",
    "px_w.name = 'Pixel Width'\n",
    "px_h = df['Resolution'].apply(lambda x: re.findall('[0-9]+', x)[1]).astype(int)\n",
    "px_h.name = 'Pixel Height'\n",
    "df = pd.concat([df, px_w, px_h], axis=1)\n",
    "df.drop(columns=['Resolution'], inplace=True)\n"
   ]
  },
  {
   "cell_type": "markdown",
   "id": "6bfd2f86",
   "metadata": {},
   "source": [
    "### Processor Type, Core & Primary Clock Speed Preprocessing\n",
    "\n",
    "- We clean and categorize the 'Processor Type' column.\n",
    "- We handle missing values in 'Processor Type.'\n",
    "- We encode the 'Processor Type' column using Label Encoding.\n",
    "- We clean the 'Processor Core' column.\n",
    "- We handle missing values in 'Processor Core.'\n",
    "- We encode the 'Processor Core' column using Label Encoding.\n",
    "- We convert 'Primary Clock Speed' from GHz to MHz, handle missing values, and impute them."
   ]
  },
  {
   "cell_type": "markdown",
   "id": "98927b41",
   "metadata": {},
   "source": [
    "#### Processor Type"
   ]
  },
  {
   "cell_type": "code",
   "execution_count": 45,
   "id": "9c842e83",
   "metadata": {},
   "outputs": [
    {
     "data": {
      "text/plain": [
       "324"
      ]
     },
     "execution_count": 45,
     "metadata": {},
     "output_type": "execute_result"
    }
   ],
   "source": [
    "df['Processor Core'].isna().sum()\n"
   ]
  },
  {
   "cell_type": "code",
   "execution_count": 46,
   "id": "db3812fc",
   "metadata": {},
   "outputs": [
    {
     "data": {
      "text/plain": [
       "Processor Type\n",
       "a15 bionic chip                                                                                                                                                                        71\n",
       "mediatek helio p35                                                                                                                                                                     67\n",
       "qualcomm snapdragon 680                                                                                                                                                                60\n",
       "a14 bionic chip with next generation neural engine                                                                                                                                     59\n",
       "a12 bionic chip                                                                                                                                                                        47\n",
       "                                                                                                                                                                                       ..\n",
       "krait cpu  the motorola x8 mobile computing system is comprised of a qualcomm snapdragon s4 pro family processor, a natural language processor and a contextual computing processor     1\n",
       "qualcomm snapdragon 430                                                                                                                                                                 1\n",
       "qualcomm snapdragon 801 msm8974-ac                                                                                                                                                      1\n",
       "qualcomm snapdragon octa core 750g 5g processor                                                                                                                                         1\n",
       "qualcomm snapdragon 765g                                                                                                                                                                1\n",
       "Name: count, Length: 326, dtype: int64"
      ]
     },
     "execution_count": 46,
     "metadata": {},
     "output_type": "execute_result"
    }
   ],
   "source": [
    "df['Processor Type'].value_counts()\n"
   ]
  },
  {
   "cell_type": "code",
   "execution_count": 47,
   "id": "3301bac0",
   "metadata": {},
   "outputs": [],
   "source": [
    "df['Processor Type'].fillna('unknown', inplace=True)\n",
    "\n",
    "choices = ['qualcomm', 'snapdragon', 'mediatek', 'dimensity', 'helio', 'apple', 'bionic chip', 'chip', 'exynos', 'unisoc', 'intel', 'tensor', 'octa core']\n",
    "clean_var(choices, df, 'Processor Type')\n"
   ]
  },
  {
   "cell_type": "code",
   "execution_count": 48,
   "id": "68b6cb8e",
   "metadata": {},
   "outputs": [],
   "source": [
    "proc_groups = {\n",
    "    'qualcomm snapdragon': ['qualcomm', 'snapdragon'],\n",
    "    'samsung exynos': ['exynos'],\n",
    "    'mediatek dimensity': ['dimensity'],\n",
    "    'mediatek helio': ['helio'],\n",
    "    'google tensor': ['tensor'],\n",
    "    'apple chip': ['apple', 'bionic chip', 'chip'],\n",
    "}\n",
    "\n",
    "for proc_group, procs in proc_groups.items():\n",
    "    for proc in procs:\n",
    "        df['Processor Type'].replace(proc, proc_group, inplace=True)\n"
   ]
  },
  {
   "cell_type": "code",
   "execution_count": 49,
   "id": "4350fa72",
   "metadata": {},
   "outputs": [
    {
     "data": {
      "text/plain": [
       "Processor Type\n",
       "qualcomm snapdragon    1045\n",
       "unknown                 746\n",
       "mediatek                661\n",
       "apple chip              432\n",
       "samsung exynos          190\n",
       "mediatek dimensity       73\n",
       "mediatek helio           34\n",
       "others                   29\n",
       "unisoc                   26\n",
       "octa core                25\n",
       "intel                    24\n",
       "google tensor            11\n",
       "Name: count, dtype: int64"
      ]
     },
     "execution_count": 49,
     "metadata": {},
     "output_type": "execute_result"
    }
   ],
   "source": [
    "df['Processor Type'] = df['Processor Type'].str.replace('(', '').str.replace(')', '')\n",
    "extra_procs = df['Processor Type'].value_counts()[df['Processor Type'].value_counts() < 10].index\n",
    "for proc in extra_procs:\n",
    "    idx = df['Processor Type'][df['Processor Type'].str.contains(proc)].index\n",
    "    df.loc[idx, 'Processor Type'] = 'others'\n",
    "df['Processor Type'].value_counts()\n"
   ]
  },
  {
   "cell_type": "code",
   "execution_count": 50,
   "id": "88e3e286",
   "metadata": {},
   "outputs": [
    {
     "data": {
      "text/plain": [
       "Processor Type\n",
       "8     1045\n",
       "11     746\n",
       "3      661\n",
       "0      432\n",
       "9      190\n",
       "4       73\n",
       "5       34\n",
       "7       29\n",
       "10      26\n",
       "6       25\n",
       "2       24\n",
       "1       11\n",
       "Name: count, dtype: int64"
      ]
     },
     "execution_count": 50,
     "metadata": {},
     "output_type": "execute_result"
    }
   ],
   "source": [
    "le = LabelEncoder()\n",
    "df['Processor Type'] = le.fit_transform(df['Processor Type'])\n",
    "df['Processor Type'] = df['Processor Type'].astype('category')\n",
    "df['Processor Type'].value_counts()\n"
   ]
  },
  {
   "cell_type": "code",
   "execution_count": 51,
   "id": "a9b528f5",
   "metadata": {},
   "outputs": [
    {
     "data": {
      "text/plain": [
       "0"
      ]
     },
     "execution_count": 51,
     "metadata": {},
     "output_type": "execute_result"
    }
   ],
   "source": [
    "df.loc[df['Processor Type'][df['Processor Type'] == 11].index, 'Processor Type'] = np.nan\n",
    "imputer = KNNImputer()\n",
    "imputed_data = imputer.fit_transform(df[['Processor Type']])\n",
    "imputed_data = pd.Series([l[0] for l in list(imputed_data)], name='Processor Type')\n",
    "df['Processor Type'] = imputed_data.astype(int).astype('category')\n",
    "df['Processor Type'].isna().sum()\n"
   ]
  },
  {
   "cell_type": "markdown",
   "id": "eaf14a81",
   "metadata": {},
   "source": [
    "#### Processor Core"
   ]
  },
  {
   "cell_type": "code",
   "execution_count": 52,
   "id": "abb75828",
   "metadata": {},
   "outputs": [
    {
     "data": {
      "text/plain": [
       "324"
      ]
     },
     "execution_count": 52,
     "metadata": {},
     "output_type": "execute_result"
    }
   ],
   "source": [
    "df['Processor Core'].isna().sum()\n"
   ]
  },
  {
   "cell_type": "code",
   "execution_count": 53,
   "id": "c5ae26f5",
   "metadata": {},
   "outputs": [
    {
     "data": {
      "text/plain": [
       "Processor Core\n",
       "octa core      2553\n",
       "dual core       193\n",
       "hexa core       151\n",
       "quad core        65\n",
       "deca core         8\n",
       "single core       2\n",
       "Name: count, dtype: int64"
      ]
     },
     "execution_count": 53,
     "metadata": {},
     "output_type": "execute_result"
    }
   ],
   "source": [
    "df['Processor Core'].value_counts()\n"
   ]
  },
  {
   "cell_type": "code",
   "execution_count": 54,
   "id": "7db892ab",
   "metadata": {},
   "outputs": [
    {
     "data": {
      "text/plain": [
       "Processor Core\n",
       "3    2553\n",
       "6     324\n",
       "1     193\n",
       "2     151\n",
       "4      65\n",
       "0       8\n",
       "5       2\n",
       "Name: count, dtype: int64"
      ]
     },
     "execution_count": 54,
     "metadata": {},
     "output_type": "execute_result"
    }
   ],
   "source": [
    "le = LabelEncoder()\n",
    "df['Processor Core'] = le.fit_transform(df['Processor Core'])\n",
    "df['Processor Core'] = df['Processor Core'].astype('category')\n",
    "df['Processor Core'].value_counts()\n"
   ]
  },
  {
   "cell_type": "code",
   "execution_count": 55,
   "id": "fe8dc1ff",
   "metadata": {},
   "outputs": [
    {
     "data": {
      "text/plain": [
       "0"
      ]
     },
     "execution_count": 55,
     "metadata": {},
     "output_type": "execute_result"
    }
   ],
   "source": [
    "df.loc[df['Processor Core'][df['Processor Core'] == 6].index, 'Processor Core'] = np.nan\n",
    "df['Processor Core'].value_counts()\n",
    "imputer = KNNImputer()\n",
    "imputed_data = imputer.fit_transform(df[['Processor Core']])\n",
    "imputed_data = pd.Series([l[0] for l in list(imputed_data)], name='Processor Core')\n",
    "df['Processor Core'] = imputed_data.astype(int).astype('category')\n",
    "df['Processor Core'].isna().sum()\n"
   ]
  },
  {
   "cell_type": "markdown",
   "id": "94105c97",
   "metadata": {},
   "source": [
    "#### Primary Clock Speed"
   ]
  },
  {
   "cell_type": "code",
   "execution_count": 56,
   "id": "8fcc9aab",
   "metadata": {},
   "outputs": [
    {
     "data": {
      "text/plain": [
       "406"
      ]
     },
     "execution_count": 56,
     "metadata": {},
     "output_type": "execute_result"
    }
   ],
   "source": [
    "df['Primary Clock Speed'].isna().sum()\n"
   ]
  },
  {
   "cell_type": "code",
   "execution_count": 57,
   "id": "68c87b0b",
   "metadata": {},
   "outputs": [
    {
     "data": {
      "text/plain": [
       "Primary Clock Speed\n",
       "2.4 ghz      478\n",
       "2 ghz        477\n",
       "2.2 ghz      426\n",
       "2.3 ghz      361\n",
       "1.8 ghz      141\n",
       "3.2 ghz      111\n",
       "2.5 ghz       70\n",
       "3 ghz         69\n",
       "2.6 ghz       68\n",
       "2.05 ghz      64\n",
       "2.8 ghz       62\n",
       "2.84 ghz      58\n",
       "3.36 ghz      44\n",
       "1.6 ghz       35\n",
       "1.84 ghz      32\n",
       "2.99 ghz      30\n",
       "1.4 ghz       29\n",
       "1.5 ghz       25\n",
       "2.73 ghz      25\n",
       "1.95 ghz      24\n",
       "1.7 ghz       23\n",
       "2.96 ghz      23\n",
       "2.1 ghz       22\n",
       "2.85 ghz      20\n",
       "2.2 mhz       17\n",
       "3.1 ghz       13\n",
       "2.9 ghz       12\n",
       "3.18 ghz      12\n",
       "3.05 ghz      11\n",
       "2.7 ghz       10\n",
       "1.82 ghz       8\n",
       "1.3 ghz        8\n",
       "2.4 mhz        8\n",
       "3.19 ghz       7\n",
       "2.91 ghz       6\n",
       "2.42 mhz       6\n",
       "3.2 mhz        5\n",
       "2.86 ghz       5\n",
       "1.2 ghz        4\n",
       "2.3 mhz        4\n",
       "90 mhz         4\n",
       "2 mhz          3\n",
       "2.995 ghz      3\n",
       "1.25 ghz       3\n",
       "1600 mhz       3\n",
       "90 ghz         2\n",
       "950 mhz        2\n",
       "2.39 ghz       2\n",
       "1.9 ghz        2\n",
       "2.15 ghz       2\n",
       "900 mhz        2\n",
       "2.26 ghz       1\n",
       "2350 mhz       1\n",
       "3.05 mhz       1\n",
       "2.8 mhz        1\n",
       "3.19 mhz       1\n",
       "2.649 ghz      1\n",
       "3.09 ghz       1\n",
       "0.1 mhz        1\n",
       "2.45 ghz       1\n",
       "Name: count, dtype: int64"
      ]
     },
     "execution_count": 57,
     "metadata": {},
     "output_type": "execute_result"
    }
   ],
   "source": [
    "df['Primary Clock Speed'].value_counts()\n"
   ]
  },
  {
   "cell_type": "code",
   "execution_count": 58,
   "id": "d719801b",
   "metadata": {},
   "outputs": [],
   "source": [
    "def ghz_to_mhz(value):\n",
    "    if 'ghz' in value:\n",
    "        value = float(value.replace(' ghz', '')) * 1000\n",
    "        return f'{value} mhz'\n",
    "    return value\n",
    "\n",
    "df['Primary Clock Speed'].fillna('unknown', inplace=True)\n",
    "df['Primary Clock Speed'] = df['Primary Clock Speed'].apply(ghz_to_mhz).str.replace(' mhz', '').replace('unknown', np.nan).astype(float)\n"
   ]
  },
  {
   "cell_type": "code",
   "execution_count": 59,
   "id": "fad7b2c8",
   "metadata": {},
   "outputs": [
    {
     "data": {
      "text/plain": [
       "0"
      ]
     },
     "execution_count": 59,
     "metadata": {},
     "output_type": "execute_result"
    }
   ],
   "source": [
    "imputer = KNNImputer()\n",
    "imputed_data = imputer.fit_transform(df[['Primary Clock Speed']])\n",
    "imputed_data = pd.Series([l[0] for l in list(imputed_data)], name='Primary Clock Speed')\n",
    "df['Primary Clock Speed'] = imputed_data\n",
    "df['Primary Clock Speed'].isna().sum()\n"
   ]
  },
  {
   "cell_type": "markdown",
   "id": "7cd5e28b",
   "metadata": {},
   "source": [
    "### Primary & Secondary Camera Preprocessing\n",
    "\n",
    "- We clean and categorize the 'Primary Camera' and 'Secondary Camera' columns.\n",
    "- We handle missing values and impute them using K-Nearest Neighbors."
   ]
  },
  {
   "cell_type": "markdown",
   "id": "a556c1ae",
   "metadata": {},
   "source": [
    "#### Primary Camera"
   ]
  },
  {
   "cell_type": "code",
   "execution_count": 60,
   "id": "16209731",
   "metadata": {},
   "outputs": [
    {
     "data": {
      "text/plain": [
       "3"
      ]
     },
     "execution_count": 60,
     "metadata": {},
     "output_type": "execute_result"
    }
   ],
   "source": [
    "df['Primary Camera'].isna().sum()\n"
   ]
  },
  {
   "cell_type": "code",
   "execution_count": 61,
   "id": "9673610b",
   "metadata": {},
   "outputs": [
    {
     "data": {
      "text/plain": [
       "Primary Camera\n",
       "50mp rear camera           292\n",
       "12mp + 12mp                190\n",
       "13mp rear camera           164\n",
       "64mp rear camera           153\n",
       "12mp rear camera           140\n",
       "                          ... \n",
       "12mp + 5mp + 4mp             1\n",
       "48mp + 5mp + 5mp             1\n",
       "10mp rear camera             1\n",
       "48mp + 5mp + 16mp            1\n",
       "48mp + 13mp + 8mp + 8mp      1\n",
       "Name: count, Length: 180, dtype: int64"
      ]
     },
     "execution_count": 61,
     "metadata": {},
     "output_type": "execute_result"
    }
   ],
   "source": [
    "df['Primary Camera'].value_counts()\n"
   ]
  },
  {
   "cell_type": "code",
   "execution_count": 62,
   "id": "79b61791",
   "metadata": {},
   "outputs": [],
   "source": [
    "def clean_cam(value):\n",
    "    if not isinstance(value, float):\n",
    "        cam = re.findall('[0-9]+', value)\n",
    "        if len(cam) != 0:\n",
    "            return int(cam[0])\n",
    "    return value\n",
    "df['Primary Camera'] = df['Primary Camera'].apply(clean_cam)\n"
   ]
  },
  {
   "cell_type": "markdown",
   "id": "fb2a52d9",
   "metadata": {},
   "source": [
    "#### Secondary Camera"
   ]
  },
  {
   "cell_type": "code",
   "execution_count": 63,
   "id": "3a40a5bd",
   "metadata": {},
   "outputs": [
    {
     "data": {
      "text/plain": [
       "651"
      ]
     },
     "execution_count": 63,
     "metadata": {},
     "output_type": "execute_result"
    }
   ],
   "source": [
    "df['Secondary Camera'].isna().sum()\n"
   ]
  },
  {
   "cell_type": "code",
   "execution_count": 64,
   "id": "55aa46fc",
   "metadata": {},
   "outputs": [
    {
     "data": {
      "text/plain": [
       "Secondary Camera\n",
       "16mp front camera                                                                    645\n",
       "8mp front camera                                                                     443\n",
       "32mp front camera                                                                    276\n",
       "12mp front camera                                                                    265\n",
       "5mp front camera                                                                     262\n",
       "13mp front camera                                                                    212\n",
       "7mp front camera                                                                     124\n",
       "20mp front camera                                                                     99\n",
       "10mp front camera                                                                     45\n",
       "1.2mp front camera                                                                    43\n",
       "16mp + 16mp dual front camera                                                         24\n",
       "25mp front camera                                                                     23\n",
       "50mp front camera                                                                     22\n",
       "24mp front camera                                                                     21\n",
       "32mp + 8mp dual front camera                                                          21\n",
       "44mp front camera                                                                     18\n",
       "20mp + 2mp dual front camera                                                          14\n",
       "2mp front camera                                                                      11\n",
       "16mp + 8mp dual front camera                                                          11\n",
       "40mp front camera                                                                     10\n",
       "50mp + 8mp dual front camera                                                           8\n",
       "48mp + 13mp dual front camera                                                          7\n",
       "60mp front camera                                                                      6\n",
       "16mp + 2mp dual front camera                                                           6\n",
       "44mp + 2mp dual front camera                                                           6\n",
       "10.8mp front camera                                                                    6\n",
       "16mp dual front camera                                                                 3\n",
       "24mp + 5mp dual front camera                                                           3\n",
       "20mp + 8mp dual front camera                                                           3\n",
       "8mp + 8mp dual front camera                                                            2\n",
       "4mp front camera                                                                       2\n",
       "8mp + 2mp dual front camera                                                            1\n",
       "32mp + 16mp dual front camera                                                          1\n",
       "32mp + 2mp dual front camera                                                           1\n",
       "48mp(f2.0) + 8mp(ultra wide/f2.2) + tof (time-of-flight) 3d-depth rotating camera      1\n",
       "Name: count, dtype: int64"
      ]
     },
     "execution_count": 64,
     "metadata": {},
     "output_type": "execute_result"
    }
   ],
   "source": [
    "df['Secondary Camera'].value_counts()\n"
   ]
  },
  {
   "cell_type": "code",
   "execution_count": 65,
   "id": "09e32116",
   "metadata": {},
   "outputs": [],
   "source": [
    "df['Secondary Camera'] = df['Secondary Camera'].apply(clean_cam)\n"
   ]
  },
  {
   "cell_type": "code",
   "execution_count": 66,
   "id": "2c95b7b9",
   "metadata": {},
   "outputs": [
    {
     "data": {
      "text/plain": [
       "0"
      ]
     },
     "execution_count": 66,
     "metadata": {},
     "output_type": "execute_result"
    }
   ],
   "source": [
    "imputer = KNNImputer()\n",
    "imputed_data = imputer.fit_transform(df[['Primary Camera', 'Secondary Camera']])\n",
    "imputed_data = pd.DataFrame(imputed_data, columns=['Primary Camera', 'Secondary Camera'])\n",
    "df['Primary Camera'] = imputed_data['Primary Camera'].astype(int)\n",
    "df['Secondary Camera'] = imputed_data['Secondary Camera'].astype(int)\n",
    "df['Primary Camera'].isna().sum()\n"
   ]
  },
  {
   "cell_type": "code",
   "execution_count": 67,
   "id": "8616c06c",
   "metadata": {},
   "outputs": [
    {
     "data": {
      "text/plain": [
       "0"
      ]
     },
     "execution_count": 67,
     "metadata": {},
     "output_type": "execute_result"
    }
   ],
   "source": [
    "df['Secondary Camera'].isna().sum()\n"
   ]
  },
  {
   "cell_type": "markdown",
   "id": "ef004451",
   "metadata": {},
   "source": [
    "### Network Type Preprocessing\n",
    "\n",
    "- We clean the 'Network Type' column and handle missing values.\n",
    "- We encode the 'Network Type' column using Label Encoding."
   ]
  },
  {
   "cell_type": "code",
   "execution_count": 68,
   "id": "8b66d862",
   "metadata": {},
   "outputs": [
    {
     "data": {
      "text/plain": [
       "1"
      ]
     },
     "execution_count": 68,
     "metadata": {},
     "output_type": "execute_result"
    }
   ],
   "source": [
    "df['Network Type'].isna().sum()\n"
   ]
  },
  {
   "cell_type": "code",
   "execution_count": 69,
   "id": "c6c4f68a",
   "metadata": {},
   "outputs": [
    {
     "data": {
      "text/plain": [
       "Network Type\n",
       "5g, 4g, 3g, 2g              538\n",
       "4g volte, 4g, 3g, 2g        514\n",
       "5g                          387\n",
       "5g, 4g volte, 4g, 3g, 2g    322\n",
       "4g, 3g, 2g                  311\n",
       "3g, 4g, 2g                  243\n",
       "4g volte                    149\n",
       "3g, 4g volte, 2g            135\n",
       "3g, 4g volte, 4g, 2g        127\n",
       "4g                          108\n",
       "5g, 4g volte                105\n",
       "2g, 3g, 4g, 5g               41\n",
       "4g volte, 4g                 33\n",
       "4g volte, 3g                 32\n",
       "2g, 3g, 4g                   29\n",
       "5g, 4g volte, 4g             24\n",
       "3g                           23\n",
       "5g, 4g, 3g                   18\n",
       "3g, 2g                       17\n",
       "3g, 4g volte, 4g             16\n",
       "3g, 4g                       13\n",
       "2g, 3g, 4g volte, 5g         12\n",
       "2g, 3g, 4g, 4g volte         11\n",
       "4g volte, 4g, 2g, 3g         11\n",
       "3g, 4g volte                 10\n",
       "2g, 3g, 4g, 4g volte, 5g      9\n",
       "4g volte, 3g, 2g              8\n",
       "4g, 2g, 3g                    8\n",
       "4g volte, 5g                  7\n",
       "4g, 3g                        7\n",
       "5g, 4g, 4g volte, 3g          5\n",
       "2g                            4\n",
       "4g volte, 4g, 3g              3\n",
       "5g, 4g volte, 3g              2\n",
       "4g, 3g, 4g volte, 2g          2\n",
       "4g, 4g volte, 3g              2\n",
       "3g, 4g, 5g                    2\n",
       "3g, 4g volte, 5g              1\n",
       "4g, 5g                        1\n",
       "4g volte, 3g, 4g              1\n",
       "5g, 4g                        1\n",
       "5g, 4g volte, 4g, 3g          1\n",
       "4g volte, 3g, 4g, 2g          1\n",
       "5g, 4g, 4g volte              1\n",
       "Name: count, dtype: int64"
      ]
     },
     "execution_count": 69,
     "metadata": {},
     "output_type": "execute_result"
    }
   ],
   "source": [
    "df['Network Type'].value_counts()\n"
   ]
  },
  {
   "cell_type": "code",
   "execution_count": 70,
   "id": "17107914",
   "metadata": {},
   "outputs": [
    {
     "data": {
      "text/plain": [
       "Network Type\n",
       "4.0    1774\n",
       "5.0    1477\n",
       "3.0      40\n",
       "2.0       4\n",
       "Name: count, dtype: int64"
      ]
     },
     "execution_count": 70,
     "metadata": {},
     "output_type": "execute_result"
    }
   ],
   "source": [
    "def clean_ntype(value):\n",
    "    if not isinstance(value, float):\n",
    "        return max(set(re.findall('[0-9]+', value)))\n",
    "    return value\n",
    "\n",
    "df['Network Type'] = df['Network Type'].apply(clean_ntype).astype(float)\n",
    "df['Network Type'].value_counts()\n"
   ]
  },
  {
   "cell_type": "code",
   "execution_count": 71,
   "id": "dd2a4131",
   "metadata": {},
   "outputs": [
    {
     "data": {
      "text/plain": [
       "0"
      ]
     },
     "execution_count": 71,
     "metadata": {},
     "output_type": "execute_result"
    }
   ],
   "source": [
    "df['Network Type'].fillna(df['Network Type'].median(), inplace=True)\n",
    "df['Network Type'] = df['Network Type'].astype(int).astype('category')\n",
    "df['Network Type'].isna().sum()\n"
   ]
  },
  {
   "cell_type": "markdown",
   "id": "e5f7e843",
   "metadata": {},
   "source": [
    "### Bluetooth Version Preprocessing\n",
    "\n",
    "- We clean the 'Bluetooth Version' column and handle missing values.\n",
    "- We encode the 'Bluetooth Version' column using Label Encoding."
   ]
  },
  {
   "cell_type": "code",
   "execution_count": 72,
   "id": "4fc4535b",
   "metadata": {},
   "outputs": [
    {
     "data": {
      "text/plain": [
       "856"
      ]
     },
     "execution_count": 72,
     "metadata": {},
     "output_type": "execute_result"
    }
   ],
   "source": [
    "df['Bluetooth Version'].isna().sum()\n"
   ]
  },
  {
   "cell_type": "code",
   "execution_count": 73,
   "id": "470393d5",
   "metadata": {},
   "outputs": [
    {
     "data": {
      "text/plain": [
       "Bluetooth Version\n",
       "v5.0                                          865\n",
       "v5.1                                          328\n",
       "v5.2                                          321\n",
       "5                                             276\n",
       "v5.3                                          206\n",
       "4.2                                           147\n",
       "4                                             119\n",
       "v4.2                                           79\n",
       "4.1                                            32\n",
       "5.1                                            28\n",
       "5.2                                             7\n",
       "2.1, 4.0, 5.0                                   7\n",
       "v4.1                                            5\n",
       "v5.0, v4.0, v2.1 + edr                          4\n",
       "5.2, a2dp, le, aptx hd, aptx adaptive           3\n",
       "2.1                                             3\n",
       "5.3                                             3\n",
       "v5.3, ble                                       2\n",
       "'v5.0                                           2\n",
       "bluetooth v5.1, bluetooth low energy (ble)      1\n",
       "5.1, a2dp, le, aptx hd                          1\n",
       "6                                               1\n",
       "Name: count, dtype: int64"
      ]
     },
     "execution_count": 73,
     "metadata": {},
     "output_type": "execute_result"
    }
   ],
   "source": [
    "df['Bluetooth Version'].value_counts()\n"
   ]
  },
  {
   "cell_type": "code",
   "execution_count": 74,
   "id": "d02b9a9a",
   "metadata": {},
   "outputs": [],
   "source": [
    "def clean_blue(value):\n",
    "    if not isinstance(value, float):\n",
    "        val = re.findall(r'\\d+\\.\\d+|\\d+', value)\n",
    "        if len(val) != 0:\n",
    "            return float(max(val))\n",
    "df['Bluetooth Version'] = df['Bluetooth Version'].apply(clean_blue)\n"
   ]
  },
  {
   "cell_type": "code",
   "execution_count": 75,
   "id": "bd27e7e5",
   "metadata": {},
   "outputs": [
    {
     "data": {
      "text/plain": [
       "0"
      ]
     },
     "execution_count": 75,
     "metadata": {},
     "output_type": "execute_result"
    }
   ],
   "source": [
    "df['Bluetooth Version'].fillna(df['Bluetooth Version'].median(), inplace=True)\n",
    "df['Bluetooth Version'].isna().sum()\n"
   ]
  },
  {
   "cell_type": "markdown",
   "id": "520414e2",
   "metadata": {},
   "source": [
    "### Width, Height, Depth and Weight Preprocessing\n",
    "\n",
    "- We clean and transform the 'Width,' 'Height,' 'Depth,' and 'Weight' columns.\n",
    "- We handle missing values using K-Nearest Neighbors imputation."
   ]
  },
  {
   "cell_type": "markdown",
   "id": "8617de97",
   "metadata": {},
   "source": [
    "#### Width"
   ]
  },
  {
   "cell_type": "code",
   "execution_count": 76,
   "id": "a51d595d",
   "metadata": {},
   "outputs": [
    {
     "data": {
      "text/plain": [
       "732"
      ]
     },
     "execution_count": 76,
     "metadata": {},
     "output_type": "execute_result"
    }
   ],
   "source": [
    "df['Width'].isna().sum()\n"
   ]
  },
  {
   "cell_type": "code",
   "execution_count": 77,
   "id": "43d97ac4",
   "metadata": {},
   "outputs": [
    {
     "data": {
      "text/plain": [
       "array(['75.7 mm', '71.5 mm', '67.3 mm', '78.1 mm', '77.6 mm', '64.2 mm',\n",
       "       '77.4 mm', '77.8 mm', '67.1 mm', '77.9 mm', '71.4 mm', '70.9 mm',\n",
       "       '67 mm', '58.6 mm', '59.2 mm', '77.2 mm', '77.5 mm', '76 mm',\n",
       "       '77.38 mm', '73.7 mm', '75.65 mm', '75.44 mm', '84 mm', nan,\n",
       "       '76.28 mm', '73.98 mm', '76.24 mm', '77 mm', '71.74 mm', '76.7 mm',\n",
       "       '78.84 mm', '77.25 mm', '68.5 mm', '75.51 mm', '84.3 mm', '78 mm',\n",
       "       '72.8 mm', '61.44 mm', '76.16 mm', '71.8 mm', '73.2 mm', '72.9 mm',\n",
       "       '76.6 mm', '68.2 mm', '158 mm', '16.1 mm', '75.2 mm', '7.7 mm',\n",
       "       '15.9 mm', '16.3 mm', '16.4 mm', '16.2 mm', '21.1 mm', '16 mm',\n",
       "       '16.5 mm', '75.72 mm', '76.8 mm', '76.4 mm', '75.73 mm', '74.6 mm',\n",
       "       '76.19 mm', '75.45 mm', '75.41 mm', '75.21 mm', '76.2 mm',\n",
       "       '75.8 mm', '69.6 mm', '77.07 mm', '75.35 mm', '75.4 mm',\n",
       "       '76.68 mm', '88.3 mm', '69.2 mm', '77.26 mm', '74.3 mm',\n",
       "       '71.85 mm', '75.58 mm', '73.6 mm', '74.8 mm', '75.3 mm', '8.35 mm',\n",
       "       '75.49 mm', '71.68 mm', '73.96 mm', '73.84 mm', '71.99 mm',\n",
       "       '74.4 mm', '74.236 mm', '73.5 mm', '74.46 mm', '74.94 mm',\n",
       "       '75.88 mm', '71.2 mm', '75.83 mm', '75.95 mm', '76.08 mm',\n",
       "       '76.54 mm', '73.87 mm', '75.99 mm', '73.82 mm', '74.95 mm',\n",
       "       '73.47 mm', '75 mm', '65.3 mm', '74 mm', '72.4 mm', '73.4 mm',\n",
       "       '73.3 mm', '75.9 mm', '7.4 mm', '74.1 mm', '74.2 mm', '75.1 mm',\n",
       "       '75.6 mm', '75.98 mm', '73.23 mm', '75.03 mm', '73.8 mm',\n",
       "       '76.1 mm', '72.1 mm', '75.5 mm', '154.5 mm', '77.35 mm',\n",
       "       '73.77 mm', '73.1 mm', '19 mm', '70.4 mm', '80.8 mm', '76.21 mm',\n",
       "       '76.09 mm', '76.03 mm', '77.3 mm', '8 mm', '75.34 mm', '77.1 mm',\n",
       "       '76.41 mm', '76.9 mm', '76.67 mm', '73.9 mm', '75.16 mm', '126 mm',\n",
       "       '74.24 mm', '74.7 mm', '75.18 mm', '75.96 mm', '74.29 mm',\n",
       "       '76.56 mm', '74.5 mm', '76.15 mm', '129.9 mm', '71.9 mm',\n",
       "       '130.1 mm', '76.3 mm', '72.2 mm', '159 mm', '9 mm', '70.6 mm',\n",
       "       '70.2 mm', '78.6 mm', '78.8 mm', '68.7 mm', '68.1 mm', '159.3 mm',\n",
       "       '76.5 mm', '79.2 mm', '128.2 mm', '73.53 mm', '74.92 mm',\n",
       "       '74.44 mm', '76.17 mm', '75.55 mm', '74.28 mm', '73.79 mm',\n",
       "       '73.52 mm', '72.42 mm', '75.46 mm', '73.27 mm', '76.32 mm',\n",
       "       '75.63 mm', '73.21 mm', '75.84 mm', '75.09 mm', '75.01 mm',\n",
       "       '75.23 mm', '74.53 mm', '75.32 mm', '74.17 mm', '76.77 mm',\n",
       "       '74.37 mm', '73.91 mm', '75.93 mm', '77.33 mm', '76.46 mm',\n",
       "       '74.08 mm', '75.39 mm', '75.04 mm', '74.78 mm', '75.74 mm',\n",
       "       '74.71 mm', '75.19 mm', '75.08 mm', '73.35 mm', '75.24 mm',\n",
       "       '73.24 mm'], dtype=object)"
      ]
     },
     "execution_count": 77,
     "metadata": {},
     "output_type": "execute_result"
    }
   ],
   "source": [
    "df['Width'].unique()\n"
   ]
  },
  {
   "cell_type": "code",
   "execution_count": 78,
   "id": "9736957d",
   "metadata": {},
   "outputs": [],
   "source": [
    "df['Width'] = df['Width'].str.replace(' mm', '').astype(float)\n"
   ]
  },
  {
   "cell_type": "markdown",
   "id": "f232190c",
   "metadata": {},
   "source": [
    "#### Height"
   ]
  },
  {
   "cell_type": "code",
   "execution_count": 79,
   "id": "4f0d55e7",
   "metadata": {},
   "outputs": [
    {
     "data": {
      "text/plain": [
       "728"
      ]
     },
     "execution_count": 79,
     "metadata": {},
     "output_type": "execute_result"
    }
   ],
   "source": [
    "df['Height'].isna().sum()\n"
   ]
  },
  {
   "cell_type": "code",
   "execution_count": 80,
   "id": "cedc9c0c",
   "metadata": {},
   "outputs": [
    {
     "data": {
      "text/plain": [
       "array(['150.9 mm', '146.7 mm', '138.4 mm', '160.8 mm', '147.5 mm',\n",
       "       '160.7 mm', '131.5 mm', '157.5 mm', '158 mm', '138.3 mm',\n",
       "       '158.2 mm', '144 mm', '143.6 mm', '138.1 mm', '158.1 mm',\n",
       "       '158.4 mm', '123.8 mm', '124.4 mm', '152.5 mm', '156.5 mm',\n",
       "       '156 mm', '10.9 m', '149 mm', '152.59 mm', '156.4 mm', '149.5 mm',\n",
       "       '153 mm', '159.1 mm', '164.55 mm', nan, '158.41 mm', '143.7 mm',\n",
       "       '146.87 mm', '151.4 mm', '159 mm', '154.3 mm', '141.18 mm',\n",
       "       '151.45 mm', '158.9 mm', '172.83 mm', '148 mm', '157.96 mm',\n",
       "       '166.9 mm', '171 mm', '170.99 mm', '109 mm', '148.2 mm',\n",
       "       '124.42 mm', '158.83 mm', '152.2 mm', '155.6 mm', '152 mm',\n",
       "       '162.9 mm', '145.6 mm', '76.7 mm', '7.4 mm', '164.8 mm', '16.5 mm',\n",
       "       '7.5 mm', '158.51 mm', '7.9 mm', '7.6 mm', '7.8 mm', '10.3 mm',\n",
       "       '160.53 mm', '165.38 mm', '163.7 mm', '163.6 mm', '163.65 mm',\n",
       "       '158.5 mm', '156.48 mm', '159.21 mm', '165.1 mm', '157.9 mm',\n",
       "       '151 mm', '155.4 mm', '164.9 mm', '158.58 mm', '158.7 mm',\n",
       "       '165.75 mm', '173.1 mm', '144.55 mm', '160.73 mm', '156.7 mm',\n",
       "       '153.48 mm', '158.73 mm', '165.5 mm', '162.58 mm', '158.3 mm',\n",
       "       '139.2 mm', '151.86 mm', '149.33 mm', '161.83 mm', '161.78 mm',\n",
       "       '161.42 mm', '158.43 mm', '160 mm', '159.38 mm', '161.76 mm',\n",
       "       '160.5 mm', '158.48 mm', '160.89 mm', '161.19 mm', '163.95 mm',\n",
       "       '169.613 mm', '165.21 mm', '160.1 mm', '160.98 mm', '157.6 mm',\n",
       "       '158.35 mm', '165.89 mm', '166.13 mm', '170.47 mm', '163.26 mm',\n",
       "       '161.56 mm', '164.19 mm', '160.61 mm', '163 mm', '165.22 mm',\n",
       "       '162.66 mm', '129.4 mm', '150.2 mm', '140.8 mm', '148.35 mm',\n",
       "       '162.1 mm', '157.7 mm', '165.3 mm', '162.6 mm', '160.2 mm',\n",
       "       '152.9 mm', '16.1 mm', '154.2 mm', '162.4 mm', '163.8 mm',\n",
       "       '164.2 mm', '165.65 mm', '159.9 mm', '160.01 mm', '163.74 mm',\n",
       "       '167.3 mm', '160.3 mm', '160.6 mm', '164.4 mm', '162.3 mm',\n",
       "       '164 mm', '165.6 mm', '166.2 mm', '159.7 mm', '158.8 mm',\n",
       "       '156.8 mm', '163.9 mm', '155.9 mm', '162 mm', '7.38 mm',\n",
       "       '159.8 mm', '154.4 mm', '161.2 mm', '156.1 mm', '161.8 mm',\n",
       "       '160.14 mm', '156.2 mm', '148.1 mm', '153.3 mm', '8 mm',\n",
       "       '142.7 mm', '163.63 mm', '154.5 mm', '150.5 mm', '161.3 mm',\n",
       "       '168.6 mm', '165.88 mm', '163.99 mm', '162.91 mm', '161.11 mm',\n",
       "       '155 mm', '161.81 mm', '163.2 mm', '155.5 mm', '163.3 mm',\n",
       "       '168.76 mm', '161.9 mm', '167.16 mm', '165.7 mm', '161.6 mm',\n",
       "       '161.5 mm', '164.1 mm', '76 mm', '164.5 mm', '164.74 mm',\n",
       "       '162.5 mm', '165.2 mm', '161 mm', '160.9 mm', '164.3 mm',\n",
       "       '159.2 mm', '162.2 mm', '158.96 mm', '160.83 mm', '157 mm',\n",
       "       '165.66 mm', '163.64 mm', '169.59 mm', '160.46 mm', '161.48 mm',\n",
       "       '161.7 mm', '165.4 mm', '166.8 mm', '167.7 mm', '154.9 mm',\n",
       "       '164.7 mm', '157.4 mm', '157.8 mm', '159.6 mm', '163.4 mm',\n",
       "       '168.5 mm', '146.3 mm', '155.1 mm', '155.7 mm', '161.4 mm',\n",
       "       '166 mm', '9 mm', '165 mm', '167.2 mm', '151.7 mm', '159.3 mm',\n",
       "       '146 mm', '149.3 mm', '156.9 mm', '152.4 mm', '147.7 mm',\n",
       "       '163.5 mm', '148.9 mm', '74.4 mm', '151.2 mm', '142.4 mm',\n",
       "       '159.5 mm', '164.05 mm', '158.91 mm', '164.42 mm', '164.06 mm',\n",
       "       '164.26 mm', '160.87 mm', '159.68 mm', '157.2 mm', '164.57 mm',\n",
       "       '163.96 mm', '159.46 mm', '164.41 mm', '155.11 mm', '159.63 mm',\n",
       "       '164.95 mm', '164.07 mm', '163.86 mm', '155.97 mm', '154.81 mm',\n",
       "       '159.01 mm', '159.43 mm', '161.24 mm', '160.63 mm', '161.97 mm',\n",
       "       '162.39 mm', '155.06 mm', '164.15 mm', '162.04 mm', '159.54 mm',\n",
       "       '159.64 mm', '159.53 mm', '154.45 mm', '155.87 mm', '157.25 mm',\n",
       "       '154.6 mm', '159.25 mm', '164.54 mm', '157.91 mm', '158.59 mm',\n",
       "       '158.46 mm', '155.21 mm'], dtype=object)"
      ]
     },
     "execution_count": 80,
     "metadata": {},
     "output_type": "execute_result"
    }
   ],
   "source": [
    "df['Height'].unique()\n"
   ]
  },
  {
   "cell_type": "code",
   "execution_count": 81,
   "id": "702962a0",
   "metadata": {},
   "outputs": [],
   "source": [
    "df['Height'] = df['Height'].str.replace(' mm', '').str.replace(' m', '').astype(float)\n"
   ]
  },
  {
   "cell_type": "markdown",
   "id": "ef9ed7ec",
   "metadata": {},
   "source": [
    "#### Depth"
   ]
  },
  {
   "cell_type": "code",
   "execution_count": 82,
   "id": "aff15b8b",
   "metadata": {},
   "outputs": [
    {
     "data": {
      "text/plain": [
       "734"
      ]
     },
     "execution_count": 82,
     "metadata": {},
     "output_type": "execute_result"
    }
   ],
   "source": [
    "df['Depth'].isna().sum()\n"
   ]
  },
  {
   "cell_type": "code",
   "execution_count": 83,
   "id": "084dd18d",
   "metadata": {},
   "outputs": [
    {
     "data": {
      "text/plain": [
       "array(['8.3 mm', '7.65 mm', '7.8 mm', '7.3 mm', '7.4 mm', '7.85 mm',\n",
       "       '7.7 mm', '8.1 mm', '7.1 mm', '6.9 mm', '7.5 mm', '7.6 mm',\n",
       "       '8.97 mm', '10.9 m', '10.8 mm', '10.55 mm', '152.5 mm', '7.9 mm',\n",
       "       '7.69 mm', '8.55 mm', '9.67 mm', nan, '10.5 mm', '8.46 mm',\n",
       "       '7.99 mm', '7.95 mm', '11.95 mm', '9.85 mm', '8.9 mm', '8.5 mm',\n",
       "       '9.9 mm', '8.85 mm', '10.29 mm', '9.78 mm', '10.34 mm', '11.2 mm',\n",
       "       '8.7 mm', '9 mm', '0.8 mm', '8.8 mm', '0.9 mm', '9.16 mm',\n",
       "       '6.2 mm', '6.81 mm', '8.16 mm', '8.34 mm', '8.05 mm', '9.4 mm',\n",
       "       '9.33 mm', '8.26 mm', '8.4 mm', '7.25 mm', '8.475 mm', '8.47 mm',\n",
       "       '8.96 mm', '8.35 mm', '75.3 mm', '8.75 mm', '8.59 mm', '8.49 mm',\n",
       "       '8.29 mm', '7.58 mm', '6.79 mm', '8.39 mm', '7.45 mm', '7.49 mm',\n",
       "       '9.6 mm', '9.18 mm', '9.15 mm', '8.99 mm', '9.09 mm', '8.25 mm',\n",
       "       '9.89 mm', '9.13 mm', '6.99 mm', '8.89 mm', '9.19 mm', '8.79 mm',\n",
       "       '8.98 mm', '9.97 mm', '8.6 mm', '8.2 mm', '8 mm', '7.89 mm',\n",
       "       '7.93 mm', '8.28 mm', '7.67 mm', '7.59 mm', '76 mm', '7.34 mm',\n",
       "       '8.67 mm', '7.48 mm', '12 mm', '7.35 mm', '9.3 mm', '9.1 mm',\n",
       "       '9.5 mm', '7.38 mm', '8.17 mm', '8.08 mm', '7.98 mm', '8.12 mm',\n",
       "       '75 mm', '8.92 mm', '10.08 mm', '8.77 mm', '7.78 mm', '8.43 mm',\n",
       "       '9.8 mm', '8.65 mm', '9.65 mm', '8.18 mm', '8.51 mm', '8.95 mm',\n",
       "       '8.87 mm', '8.81 mm', '6.1 mm', '9.7 mm', '6.3 mm', '17.1 mm',\n",
       "       '8.15 mm', '7.57 mm', '7.36 mm', '8.07 mm', '8.19 mm', '7.41 mm',\n",
       "       '8.42 mm', '8.38 mm', '8.62 mm', '7.29 mm', '7.55 mm', '7.73 mm',\n",
       "       '7.39 mm', '8.41 mm', '8.48 mm', '7.79 mm', '9.34 mm', '8.54 mm',\n",
       "       '7.32 mm', '7.77 mm', '9.11 mm', '7.83 mm', '8.13 mm', '7.37 mm',\n",
       "       '8.21 mm', '8.68 mm', '8.04 mm'], dtype=object)"
      ]
     },
     "execution_count": 83,
     "metadata": {},
     "output_type": "execute_result"
    }
   ],
   "source": [
    "df['Depth'].unique()\n"
   ]
  },
  {
   "cell_type": "code",
   "execution_count": 84,
   "id": "4e1b3eef",
   "metadata": {},
   "outputs": [],
   "source": [
    "df['Depth'] = df['Depth'].str.replace(' mm', '').str.replace(' m', '').astype(float)\n"
   ]
  },
  {
   "cell_type": "markdown",
   "id": "d2bc1b6a",
   "metadata": {},
   "source": [
    "#### Weight"
   ]
  },
  {
   "cell_type": "code",
   "execution_count": 85,
   "id": "742b53c1",
   "metadata": {},
   "outputs": [
    {
     "data": {
      "text/plain": [
       "761"
      ]
     },
     "execution_count": 85,
     "metadata": {},
     "output_type": "execute_result"
    }
   ],
   "source": [
    "df['Weight'].isna().sum()\n"
   ]
  },
  {
   "cell_type": "code",
   "execution_count": 86,
   "id": "0000d901",
   "metadata": {},
   "outputs": [
    {
     "data": {
      "text/plain": [
       "array(['194 g', '173 g', '172 g', '144 g', '203 g', '162 g', '206 g',\n",
       "       '240 g', '140 g', '148 g', '238 g', '208 g', '226 g', '143 g',\n",
       "       '187 g', '133 g', '188 g', '192 g', '138 g', '177 g', '129 g',\n",
       "       '202 g', '112 g', '132 g', '174 g', '170 g', '150 g', '155 g',\n",
       "       '165 g', '195 g', '190 g', '160 g', '175 g', '180 g', '147 g',\n",
       "       '120 g', nan, '185 g', '169 g', '196 g', '242 g', '145 g', '116 g',\n",
       "       '200 g', '178 g', '197 g', '193.5 g', '212 g', '454 g', '214.5 g',\n",
       "       '158 g', '157 g', '205 g', '204 g', '186 g', '216 g', '154 g',\n",
       "       '181 g', '130 g', '168 g', '209 g', '0.45 kg', '191 g', '173.8 g',\n",
       "       '146 g', '149 g', '184 g', '171 g', '168.3 g', '198.5 g', '220 g',\n",
       "       '176 g', '221 g', '210 g', '179 g', '166.8 g', '163 g', '179.5 g',\n",
       "       '201.2 g', '183 g', '199 g', '153 g', '189 g', '182 g', '193 g',\n",
       "       '189.6 g', '164 g', '137 g', '161 g', '152 g', '141 g', '215 g',\n",
       "       '156 g', '201 g', '213 g', '198 g', '225 g', '189.5 g', '172.5 g',\n",
       "       '174.5 g', '199.8 g', '207 g', '196.5 g', '194.5 g', '186.5 g',\n",
       "       '183.7 g', '178.8 g', '253 g', '228 g', '233 g', '263 g', '166 g',\n",
       "       '211 g', '218 g', '167 g', '271 g', '282 g', '180.5 g', '219 g',\n",
       "       '180.3 g', '214.85 g', '163.7 g', '192.3 g', '190.5 g', '163.5 g',\n",
       "       '185.5 gm', '156.2 g', '201.8 g', '162.8 g', '186.7 g', '171.5 g',\n",
       "       '181.5 g'], dtype=object)"
      ]
     },
     "execution_count": 86,
     "metadata": {},
     "output_type": "execute_result"
    }
   ],
   "source": [
    "df['Weight'].unique()\n"
   ]
  },
  {
   "cell_type": "code",
   "execution_count": 87,
   "id": "ed959d56",
   "metadata": {},
   "outputs": [],
   "source": [
    "def kg_to_g(value):\n",
    "    if 'kg' in value:\n",
    "        value = float(value.replace(' kg', '')) * 1000\n",
    "        return f'{value} g'\n",
    "    return value\n",
    "\n",
    "df['Weight'].fillna('unknown', inplace=True)\n",
    "df['Weight'] = df['Weight'].apply(kg_to_g).str.replace(' g', '').str.replace(' gm', '').str.replace('m', '').replace('unknown', np.nan).astype(float)\n"
   ]
  },
  {
   "cell_type": "markdown",
   "id": "3bb34e0d",
   "metadata": {},
   "source": [
    "#### Handling NULL Values"
   ]
  },
  {
   "cell_type": "code",
   "execution_count": 88,
   "id": "21b8e7a3",
   "metadata": {},
   "outputs": [
    {
     "name": "stdout",
     "output_type": "stream",
     "text": [
      "NULL Values in Width: 0\n",
      "NULL Values in Height: 0\n",
      "NULL Values in Depth: 0\n",
      "NULL Values in Weight: 0\n"
     ]
    }
   ],
   "source": [
    "cols = ['Width', 'Height', 'Depth', 'Weight']\n",
    "imputer = KNNImputer()\n",
    "imputed_data = imputer.fit_transform(df[cols])\n",
    "imputed_data = pd.DataFrame(imputed_data, columns=cols)\n",
    "for col in cols:\n",
    "    df[col] = imputed_data[col]\n",
    "    print(f'NULL Values in {col}: {df[col].isna().sum()}')\n"
   ]
  },
  {
   "cell_type": "markdown",
   "id": "b376b7ea",
   "metadata": {},
   "source": [
    "### Quick Charging Preprocessing\n",
    "\n",
    "- We handle missing values in the 'Quick Charging' column.\n",
    "- We encode the 'Quick Charging' column using Label Encoding."
   ]
  },
  {
   "cell_type": "code",
   "execution_count": 89,
   "id": "e8d5d557",
   "metadata": {},
   "outputs": [
    {
     "data": {
      "text/plain": [
       "2228"
      ]
     },
     "execution_count": 89,
     "metadata": {},
     "output_type": "execute_result"
    }
   ],
   "source": [
    "df['Quick Charging'].isna().sum()\n"
   ]
  },
  {
   "cell_type": "code",
   "execution_count": 90,
   "id": "1d3acc9e",
   "metadata": {},
   "outputs": [
    {
     "data": {
      "text/plain": [
       "Quick Charging\n",
       "yes    1048\n",
       "no       20\n",
       "Name: count, dtype: int64"
      ]
     },
     "execution_count": 90,
     "metadata": {},
     "output_type": "execute_result"
    }
   ],
   "source": [
    "df['Quick Charging'].value_counts()\n"
   ]
  },
  {
   "cell_type": "code",
   "execution_count": 91,
   "id": "9ee52c0e",
   "metadata": {},
   "outputs": [
    {
     "data": {
      "text/plain": [
       "0"
      ]
     },
     "execution_count": 91,
     "metadata": {},
     "output_type": "execute_result"
    }
   ],
   "source": [
    "df['Quick Charging'].fillna('no', inplace=True)\n",
    "df['Quick Charging'].isna().sum()\n"
   ]
  },
  {
   "cell_type": "code",
   "execution_count": 92,
   "id": "005c2aa8",
   "metadata": {},
   "outputs": [
    {
     "data": {
      "text/plain": [
       "Quick Charging\n",
       "0    2248\n",
       "1    1048\n",
       "Name: count, dtype: int64"
      ]
     },
     "execution_count": 92,
     "metadata": {},
     "output_type": "execute_result"
    }
   ],
   "source": [
    "df['Quick Charging'] = df['Quick Charging'].apply(lambda x: 1 if x == 'yes' else 0).astype('category')\n",
    "df['Quick Charging'].value_counts()\n"
   ]
  },
  {
   "cell_type": "markdown",
   "id": "e820e790",
   "metadata": {},
   "source": [
    "### Audio Jack Preprocessing\n",
    "\n",
    "- We clean and categorize the 'Audio Jack' column.\n",
    "- We handle missing values and encode the 'Audio Jack' column using Label Encoding."
   ]
  },
  {
   "cell_type": "code",
   "execution_count": 93,
   "id": "9b6a124f",
   "metadata": {},
   "outputs": [
    {
     "data": {
      "text/plain": [
       "1622"
      ]
     },
     "execution_count": 93,
     "metadata": {},
     "output_type": "execute_result"
    }
   ],
   "source": [
    "df['Audio Jack'].isna().sum()\n"
   ]
  },
  {
   "cell_type": "code",
   "execution_count": 94,
   "id": "4ca08f55",
   "metadata": {},
   "outputs": [
    {
     "data": {
      "text/plain": [
       "Audio Jack\n",
       "3.5mm            1089\n",
       "3.5 mm            259\n",
       "type c            125\n",
       "yes                47\n",
       "usb type c         35\n",
       "type-c             31\n",
       "usb (type c)       31\n",
       "3.5                22\n",
       "usb type-c         16\n",
       "usb (type-c)       10\n",
       "no                  7\n",
       "?3.5 mm             1\n",
       "3.5 mm stereo       1\n",
       "Name: count, dtype: int64"
      ]
     },
     "execution_count": 94,
     "metadata": {},
     "output_type": "execute_result"
    }
   ],
   "source": [
    "df['Audio Jack'].value_counts()\n"
   ]
  },
  {
   "cell_type": "code",
   "execution_count": 95,
   "id": "b8624014",
   "metadata": {},
   "outputs": [
    {
     "data": {
      "text/plain": [
       "Audio Jack\n",
       "no        1629\n",
       "3.5       1372\n",
       "type c     191\n",
       "type-c      57\n",
       "yes         47\n",
       "Name: count, dtype: int64"
      ]
     },
     "execution_count": 95,
     "metadata": {},
     "output_type": "execute_result"
    }
   ],
   "source": [
    "df['Audio Jack'].fillna('no', inplace=True)\n",
    "choices = ['3.5', 'type c', 'type-c']\n",
    "clean_var(choices, df, 'Audio Jack')\n",
    "df['Audio Jack'].value_counts()\n"
   ]
  },
  {
   "cell_type": "code",
   "execution_count": 96,
   "id": "e0300179",
   "metadata": {},
   "outputs": [
    {
     "data": {
      "text/plain": [
       "Audio Jack\n",
       "yes    1667\n",
       "no     1629\n",
       "Name: count, dtype: int64"
      ]
     },
     "execution_count": 96,
     "metadata": {},
     "output_type": "execute_result"
    }
   ],
   "source": [
    "aud_groups = {\n",
    "    'yes': ['type-c', 'type c', '3.5']\n",
    "}\n",
    "\n",
    "for aud_group, auds in aud_groups.items():\n",
    "    for aud in auds:\n",
    "        df['Audio Jack'].replace(aud, aud_group, inplace=True)\n",
    "df['Audio Jack'].value_counts()\n"
   ]
  },
  {
   "cell_type": "code",
   "execution_count": 97,
   "id": "209b433f",
   "metadata": {},
   "outputs": [
    {
     "data": {
      "text/plain": [
       "Audio Jack\n",
       "1    1667\n",
       "0    1629\n",
       "Name: count, dtype: int64"
      ]
     },
     "execution_count": 97,
     "metadata": {},
     "output_type": "execute_result"
    }
   ],
   "source": [
    "df['Audio Jack'] = df['Audio Jack'].apply(lambda x: 1 if x == 'yes' else 0).astype('category')\n",
    "df['Audio Jack'].value_counts()\n"
   ]
  },
  {
   "cell_type": "markdown",
   "id": "91c20b4c",
   "metadata": {},
   "source": [
    "### Battery Capacity Preprocessing\n",
    "\n",
    "We clean the 'Battery Capacity' column and handle missing values."
   ]
  },
  {
   "cell_type": "code",
   "execution_count": 98,
   "id": "1f7c92c6",
   "metadata": {},
   "outputs": [
    {
     "data": {
      "text/plain": [
       "333"
      ]
     },
     "execution_count": 98,
     "metadata": {},
     "output_type": "execute_result"
    }
   ],
   "source": [
    "df['Battery Capacity'].isna().sum()\n"
   ]
  },
  {
   "cell_type": "code",
   "execution_count": 99,
   "id": "67f04e2c",
   "metadata": {},
   "outputs": [
    {
     "data": {
      "text/plain": [
       "Battery Capacity\n",
       "5000 mah    1282\n",
       "4500 mah     308\n",
       "6000 mah     232\n",
       "4000 mah     174\n",
       "3000 mah      81\n",
       "            ... \n",
       "3120 mah       1\n",
       "3430 mah       1\n",
       "3520 mah       1\n",
       "3095 mah       1\n",
       "4315 mah       1\n",
       "Name: count, Length: 92, dtype: int64"
      ]
     },
     "execution_count": 99,
     "metadata": {},
     "output_type": "execute_result"
    }
   ],
   "source": [
    "df['Battery Capacity'].value_counts()\n"
   ]
  },
  {
   "cell_type": "code",
   "execution_count": 100,
   "id": "7c3e499c",
   "metadata": {},
   "outputs": [
    {
     "data": {
      "text/plain": [
       "0"
      ]
     },
     "execution_count": 100,
     "metadata": {},
     "output_type": "execute_result"
    }
   ],
   "source": [
    "df['Battery Capacity'] = df['Battery Capacity'].str.replace(' mah', '').astype(float)\n",
    "df['Battery Capacity'].fillna(int(df['Battery Capacity'].mean()), inplace=True)\n",
    "df['Battery Capacity'] = df['Battery Capacity'].astype(int)\n",
    "df['Battery Capacity'].isna().sum()\n"
   ]
  },
  {
   "cell_type": "markdown",
   "id": "05188d11",
   "metadata": {},
   "source": [
    "### Internal Storage & RAM Preprocessing\n",
    "\n",
    "- We clean and transform the 'Internal Storage' and 'RAM' columns.\n",
    "- We handle missing values and convert values from TB to GB."
   ]
  },
  {
   "cell_type": "markdown",
   "id": "c2bf1a68",
   "metadata": {},
   "source": [
    "#### Internal Storage"
   ]
  },
  {
   "cell_type": "code",
   "execution_count": 101,
   "id": "15d3b94c",
   "metadata": {},
   "outputs": [
    {
     "data": {
      "text/plain": [
       "0"
      ]
     },
     "execution_count": 101,
     "metadata": {},
     "output_type": "execute_result"
    }
   ],
   "source": [
    "df['Internal Storage'].isna().sum()\n"
   ]
  },
  {
   "cell_type": "code",
   "execution_count": 102,
   "id": "4684f83e",
   "metadata": {},
   "outputs": [
    {
     "data": {
      "text/plain": [
       "Internal Storage\n",
       "128 gb    1587\n",
       "64 gb      732\n",
       "256 gb     557\n",
       "32 gb      210\n",
       "512 gb      90\n",
       "16 gb       72\n",
       "1 tb        24\n",
       "8 gb        16\n",
       "6 gb         7\n",
       "4 gb         1\n",
       "Name: count, dtype: int64"
      ]
     },
     "execution_count": 102,
     "metadata": {},
     "output_type": "execute_result"
    }
   ],
   "source": [
    "df['Internal Storage'].value_counts()\n"
   ]
  },
  {
   "cell_type": "code",
   "execution_count": 103,
   "id": "4e257f20",
   "metadata": {},
   "outputs": [],
   "source": [
    "def tb_to_gb(value):\n",
    "    if 'tb' in value:\n",
    "        value = int(value.replace(' tb', '')) * 1024\n",
    "        return f'{value} gb'\n",
    "    return value\n",
    "\n",
    "df['Internal Storage'] = df['Internal Storage'].apply(tb_to_gb).str.replace(' gb', '').astype(int)\n"
   ]
  },
  {
   "cell_type": "markdown",
   "id": "dc562611",
   "metadata": {},
   "source": [
    "#### RAM Preprocessing"
   ]
  },
  {
   "cell_type": "code",
   "execution_count": 104,
   "id": "20dddfe4",
   "metadata": {},
   "outputs": [
    {
     "data": {
      "text/plain": [
       "432"
      ]
     },
     "execution_count": 104,
     "metadata": {},
     "output_type": "execute_result"
    }
   ],
   "source": [
    "df['RAM'].isna().sum()\n"
   ]
  },
  {
   "cell_type": "code",
   "execution_count": 105,
   "id": "7710c4f2",
   "metadata": {},
   "outputs": [
    {
     "data": {
      "text/plain": [
       "RAM\n",
       "8 gb      899\n",
       "6 gb      711\n",
       "4 gb      707\n",
       "12 gb     266\n",
       "3 gb      193\n",
       "2 gb       57\n",
       "16 gb      12\n",
       "128 gb      7\n",
       "1 gb        6\n",
       "18 gb       2\n",
       "10 gb       2\n",
       "1.5 gb      2\n",
       "Name: count, dtype: int64"
      ]
     },
     "execution_count": 105,
     "metadata": {},
     "output_type": "execute_result"
    }
   ],
   "source": [
    "df['RAM'].value_counts()\n"
   ]
  },
  {
   "cell_type": "code",
   "execution_count": 106,
   "id": "c198e48a",
   "metadata": {},
   "outputs": [
    {
     "data": {
      "text/plain": [
       "0"
      ]
     },
     "execution_count": 106,
     "metadata": {},
     "output_type": "execute_result"
    }
   ],
   "source": [
    "df['RAM'] = df['RAM'].str.replace(' gb', '').astype(float)\n",
    "df['RAM'].fillna(df['RAM'].median(), inplace=True)\n",
    "df['RAM'] = df['RAM'].astype(int)\n",
    "df['RAM'].isna().sum()\n"
   ]
  },
  {
   "cell_type": "markdown",
   "id": "dd025ea1",
   "metadata": {},
   "source": [
    "### Expandable Storage Preprocessing\n",
    "\n",
    "We handle missing values in the 'Expandable Storage' column and impute them based on 'Internal Storage.'"
   ]
  },
  {
   "cell_type": "code",
   "execution_count": 107,
   "id": "8a9a3f3d",
   "metadata": {},
   "outputs": [
    {
     "data": {
      "text/plain": [
       "1865"
      ]
     },
     "execution_count": 107,
     "metadata": {},
     "output_type": "execute_result"
    }
   ],
   "source": [
    "df['Expandable Storage'].isna().sum()\n"
   ]
  },
  {
   "cell_type": "code",
   "execution_count": 108,
   "id": "b47c6f48",
   "metadata": {},
   "outputs": [
    {
     "data": {
      "text/plain": [
       "Expandable Storage\n",
       "1 tb      557\n",
       "256 gb    430\n",
       "512 gb    261\n",
       "128 gb     75\n",
       "2 tb       74\n",
       "64 gb      25\n",
       "32 gb       3\n",
       "400 gb      3\n",
       "7 gb        1\n",
       "200 gb      1\n",
       "12 gb       1\n",
       "Name: count, dtype: int64"
      ]
     },
     "execution_count": 108,
     "metadata": {},
     "output_type": "execute_result"
    }
   ],
   "source": [
    "df['Expandable Storage'].value_counts()\n"
   ]
  },
  {
   "cell_type": "code",
   "execution_count": 109,
   "id": "7c1ac28e",
   "metadata": {},
   "outputs": [],
   "source": [
    "df['Expandable Storage'].fillna('unknown', inplace=True)\n",
    "df['Expandable Storage'] = df['Expandable Storage'].apply(tb_to_gb).str.replace(' gb', '').replace('unknown', np.nan).astype(float)\n"
   ]
  },
  {
   "cell_type": "code",
   "execution_count": 110,
   "id": "2cffec92",
   "metadata": {},
   "outputs": [
    {
     "data": {
      "text/plain": [
       "Internal Storage\n",
       "4          NaN\n",
       "6          NaN\n",
       "8         64.0\n",
       "16       128.0\n",
       "32       256.0\n",
       "64       512.0\n",
       "128     1024.0\n",
       "256     1024.0\n",
       "512      512.0\n",
       "1024       NaN\n",
       "Name: Expandable Storage, dtype: float64"
      ]
     },
     "execution_count": 110,
     "metadata": {},
     "output_type": "execute_result"
    }
   ],
   "source": [
    "df.groupby('Internal Storage')['Expandable Storage'].median()\n"
   ]
  },
  {
   "cell_type": "code",
   "execution_count": 111,
   "id": "0f059829",
   "metadata": {},
   "outputs": [
    {
     "data": {
      "text/plain": [
       "{4: nan,\n",
       " 6: nan,\n",
       " 8: 64.0,\n",
       " 16: 128.0,\n",
       " 32: 256.0,\n",
       " 64: 512.0,\n",
       " 128: 1024.0,\n",
       " 256: 1024.0,\n",
       " 512: 512.0,\n",
       " 1024: nan}"
      ]
     },
     "execution_count": 111,
     "metadata": {},
     "output_type": "execute_result"
    }
   ],
   "source": [
    "mapping = dict(df.groupby('Internal Storage')['Expandable Storage'].median())\n",
    "mapping\n"
   ]
  },
  {
   "cell_type": "code",
   "execution_count": 112,
   "id": "885f636b",
   "metadata": {},
   "outputs": [
    {
     "data": {
      "text/plain": [
       "32"
      ]
     },
     "execution_count": 112,
     "metadata": {},
     "output_type": "execute_result"
    }
   ],
   "source": [
    "new_storage = df['Internal Storage'].apply(lambda x: mapping[x])\n",
    "df['Expandable Storage'].fillna(new_storage, inplace=True)\n",
    "df['Expandable Storage'].isna().sum()\n"
   ]
  },
  {
   "cell_type": "code",
   "execution_count": 113,
   "id": "634be105",
   "metadata": {},
   "outputs": [
    {
     "data": {
      "text/plain": [
       "0"
      ]
     },
     "execution_count": 113,
     "metadata": {},
     "output_type": "execute_result"
    }
   ],
   "source": [
    "df['Expandable Storage'].fillna(df['Expandable Storage'].median(), inplace=True)\n",
    "df['Expandable Storage'] = df['Expandable Storage'].astype(int)\n",
    "df['Expandable Storage'].isna().sum()\n"
   ]
  },
  {
   "cell_type": "markdown",
   "id": "1d1323fb",
   "metadata": {},
   "source": [
    "### Final Data\n",
    "\n",
    "- We check for any remaining missing values.\n",
    "- We save the preprocessed dataset as 'prep_smartphones.csv' for further analysis and modeling."
   ]
  },
  {
   "cell_type": "code",
   "execution_count": 114,
   "id": "c280c683",
   "metadata": {},
   "outputs": [
    {
     "data": {
      "text/plain": [
       "0"
      ]
     },
     "execution_count": 114,
     "metadata": {},
     "output_type": "execute_result"
    }
   ],
   "source": [
    "df.isna().sum().sum()\n"
   ]
  },
  {
   "cell_type": "code",
   "execution_count": 115,
   "id": "84313f93",
   "metadata": {},
   "outputs": [
    {
     "data": {
      "text/plain": [
       "Brand                  0\n",
       "Price                  0\n",
       "Color                  0\n",
       "SIM Type               0\n",
       "Hybrid Sim Slot        0\n",
       "Display Size (cm)      0\n",
       "Resolution Type        0\n",
       "Display Type           0\n",
       "Processor Type         0\n",
       "Internal Storage       0\n",
       "Primary Camera         0\n",
       "Secondary Camera       0\n",
       "Network Type           0\n",
       "Bluetooth Version      0\n",
       "Battery Capacity       0\n",
       "Width                  0\n",
       "Height                 0\n",
       "Depth                  0\n",
       "Weight                 0\n",
       "Quick Charging         0\n",
       "Processor Core         0\n",
       "Primary Clock Speed    0\n",
       "Audio Jack             0\n",
       "RAM                    0\n",
       "Expandable Storage     0\n",
       "Pixel Width            0\n",
       "Pixel Height           0\n",
       "dtype: int64"
      ]
     },
     "execution_count": 115,
     "metadata": {},
     "output_type": "execute_result"
    }
   ],
   "source": [
    "df.isna().sum()\n"
   ]
  },
  {
   "cell_type": "code",
   "execution_count": 116,
   "id": "8b96714c",
   "metadata": {},
   "outputs": [
    {
     "data": {
      "text/plain": [
       "0"
      ]
     },
     "execution_count": 116,
     "metadata": {},
     "output_type": "execute_result"
    }
   ],
   "source": [
    "len(df.select_dtypes('object').columns)\n"
   ]
  },
  {
   "cell_type": "code",
   "execution_count": 117,
   "id": "a5fe5bef",
   "metadata": {},
   "outputs": [
    {
     "data": {
      "text/plain": [
       "16"
      ]
     },
     "execution_count": 117,
     "metadata": {},
     "output_type": "execute_result"
    }
   ],
   "source": [
    "len(df.select_dtypes('number').columns)\n"
   ]
  },
  {
   "cell_type": "code",
   "execution_count": 118,
   "id": "62c61029",
   "metadata": {},
   "outputs": [
    {
     "data": {
      "text/plain": [
       "11"
      ]
     },
     "execution_count": 118,
     "metadata": {},
     "output_type": "execute_result"
    }
   ],
   "source": [
    "len(df.select_dtypes('category').columns)\n"
   ]
  },
  {
   "cell_type": "code",
   "execution_count": 119,
   "id": "d67e3c08",
   "metadata": {},
   "outputs": [],
   "source": [
    "df.to_csv('prep_smartphones.csv', index=False)\n"
   ]
  }
 ],
 "metadata": {
  "kernelspec": {
   "display_name": "Python 3 (ipykernel)",
   "language": "python",
   "name": "python3"
  },
  "language_info": {
   "codemirror_mode": {
    "name": "ipython",
    "version": 3
   },
   "file_extension": ".py",
   "mimetype": "text/x-python",
   "name": "python",
   "nbconvert_exporter": "python",
   "pygments_lexer": "ipython3",
   "version": "3.11.0"
  }
 },
 "nbformat": 4,
 "nbformat_minor": 5
}
